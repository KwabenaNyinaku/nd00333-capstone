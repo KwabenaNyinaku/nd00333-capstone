{
 "cells": [
  {
   "cell_type": "code",
   "execution_count": 4,
   "id": "d280badf-c2b8-4dbf-8ea6-ce0a38c02538",
   "metadata": {},
   "outputs": [],
   "source": [
    "from azureml.core.workspace import Workspace\n",
    "from azureml.core.dataset import Dataset\n",
    "from azureml.core.experiment import Experiment\n",
    "from azureml.train.automl import AutoMLConfig\n",
    "from azureml.widgets import RunDetails\n",
    "from sklearn.model_selection import train_test_split"
   ]
  },
  {
   "cell_type": "code",
   "execution_count": 5,
   "id": "669ca52e-d260-477d-bc93-dbff213757d4",
   "metadata": {},
   "outputs": [],
   "source": [
    "ws = Workspace.from_config()"
   ]
  },
  {
   "cell_type": "code",
   "execution_count": 6,
   "id": "40272e03-78f5-458d-b32e-8b0410eb5967",
   "metadata": {},
   "outputs": [
    {
     "data": {
      "text/html": [
       "<table style=\"width:100%\"><tr><th>Name</th><th>Workspace</th><th>Report Page</th><th>Docs Page</th></tr><tr><td>automl-capstone</td><td>endofproj</td><td><a href=\"https://ml.azure.com/experiments/id/aacfb76d-e5fd-49da-9515-108a9188c6f7?wsid=/subscriptions/d6ebc258-732e-4a76-8d46-be5af7f5737d/resourcegroups/tsar/workspaces/endofproj&amp;tid=52299ebb-8afb-45a8-8e21-7df88891d90a\" target=\"_blank\" rel=\"noopener\">Link to Azure Machine Learning studio</a></td><td><a href=\"https://docs.microsoft.com/en-us/python/api/azureml-core/azureml.core.experiment.Experiment?view=azure-ml-py\" target=\"_blank\" rel=\"noopener\">Link to Documentation</a></td></tr></table>"
      ],
      "text/plain": [
       "Experiment(Name: automl-capstone,\n",
       "Workspace: endofproj)"
      ]
     },
     "execution_count": 6,
     "metadata": {},
     "output_type": "execute_result"
    }
   ],
   "source": [
    "# Choose a name for the run history container in the workspace.\n",
    "# NOTE: update these to match your existing experiment name\n",
    "experiment_name = 'automl-capstone'\n",
    "project_folder = './automl'\n",
    "\n",
    "experiment = Experiment(ws, experiment_name)\n",
    "experiment"
   ]
  },
  {
   "cell_type": "code",
   "execution_count": 7,
   "id": "45661d60-ccf8-46f2-b392-bfb16d4cc55a",
   "metadata": {},
   "outputs": [
    {
     "data": {
      "text/plain": [
       "{'Parkisons-Data': DatasetRegistration(id='3fc264b3-7442-4ee7-98b6-33f755771995', name='Parkisons-Data', version=1, description=' Parkinsons Disease Data Set', tags={})}"
      ]
     },
     "execution_count": 7,
     "metadata": {},
     "output_type": "execute_result"
    }
   ],
   "source": [
    "ws.datasets"
   ]
  },
  {
   "cell_type": "code",
   "execution_count": 8,
   "id": "ae576429-694a-44b6-9191-ad538515c862",
   "metadata": {},
   "outputs": [],
   "source": [
    "parkinsons_ds = Dataset.get_by_name(workspace=ws, name='Parkisons-Data')"
   ]
  },
  {
   "cell_type": "code",
   "execution_count": 10,
   "id": "5d47bad6-7109-4063-bdd9-7946430683d1",
   "metadata": {},
   "outputs": [],
   "source": [
    "parkinsons_df = parkinsons_ds.to_pandas_dataframe()"
   ]
  },
  {
   "cell_type": "code",
   "execution_count": 11,
   "id": "61132ab3-76b9-4616-ad3a-ea837413be1c",
   "metadata": {},
   "outputs": [
    {
     "data": {
      "text/html": [
       "<div>\n",
       "<style scoped>\n",
       "    .dataframe tbody tr th:only-of-type {\n",
       "        vertical-align: middle;\n",
       "    }\n",
       "\n",
       "    .dataframe tbody tr th {\n",
       "        vertical-align: top;\n",
       "    }\n",
       "\n",
       "    .dataframe thead th {\n",
       "        text-align: right;\n",
       "    }\n",
       "</style>\n",
       "<table border=\"1\" class=\"dataframe\">\n",
       "  <thead>\n",
       "    <tr style=\"text-align: right;\">\n",
       "      <th></th>\n",
       "      <th>name</th>\n",
       "      <th>MDVP:Fo(Hz)</th>\n",
       "      <th>MDVP:Fhi(Hz)</th>\n",
       "      <th>MDVP:Flo(Hz)</th>\n",
       "      <th>MDVP:Jitter(%)</th>\n",
       "      <th>MDVP:Jitter(Abs)</th>\n",
       "      <th>MDVP:RAP</th>\n",
       "      <th>MDVP:PPQ</th>\n",
       "      <th>Jitter:DDP</th>\n",
       "      <th>MDVP:Shimmer</th>\n",
       "      <th>...</th>\n",
       "      <th>Shimmer:DDA</th>\n",
       "      <th>NHR</th>\n",
       "      <th>HNR</th>\n",
       "      <th>status</th>\n",
       "      <th>RPDE</th>\n",
       "      <th>DFA</th>\n",
       "      <th>spread1</th>\n",
       "      <th>spread2</th>\n",
       "      <th>D2</th>\n",
       "      <th>PPE</th>\n",
       "    </tr>\n",
       "  </thead>\n",
       "  <tbody>\n",
       "    <tr>\n",
       "      <th>0</th>\n",
       "      <td>phon_R01_S01_1</td>\n",
       "      <td>119.992</td>\n",
       "      <td>157.302</td>\n",
       "      <td>74.997</td>\n",
       "      <td>0.00784</td>\n",
       "      <td>0.00007</td>\n",
       "      <td>0.00370</td>\n",
       "      <td>0.00554</td>\n",
       "      <td>0.01109</td>\n",
       "      <td>0.04374</td>\n",
       "      <td>...</td>\n",
       "      <td>0.06545</td>\n",
       "      <td>0.02211</td>\n",
       "      <td>21.033</td>\n",
       "      <td>1</td>\n",
       "      <td>0.414783</td>\n",
       "      <td>0.815285</td>\n",
       "      <td>-4.813031</td>\n",
       "      <td>0.266482</td>\n",
       "      <td>2.301442</td>\n",
       "      <td>0.284654</td>\n",
       "    </tr>\n",
       "    <tr>\n",
       "      <th>1</th>\n",
       "      <td>phon_R01_S01_2</td>\n",
       "      <td>122.400</td>\n",
       "      <td>148.650</td>\n",
       "      <td>113.819</td>\n",
       "      <td>0.00968</td>\n",
       "      <td>0.00008</td>\n",
       "      <td>0.00465</td>\n",
       "      <td>0.00696</td>\n",
       "      <td>0.01394</td>\n",
       "      <td>0.06134</td>\n",
       "      <td>...</td>\n",
       "      <td>0.09403</td>\n",
       "      <td>0.01929</td>\n",
       "      <td>19.085</td>\n",
       "      <td>1</td>\n",
       "      <td>0.458359</td>\n",
       "      <td>0.819521</td>\n",
       "      <td>-4.075192</td>\n",
       "      <td>0.335590</td>\n",
       "      <td>2.486855</td>\n",
       "      <td>0.368674</td>\n",
       "    </tr>\n",
       "    <tr>\n",
       "      <th>2</th>\n",
       "      <td>phon_R01_S01_3</td>\n",
       "      <td>116.682</td>\n",
       "      <td>131.111</td>\n",
       "      <td>111.555</td>\n",
       "      <td>0.01050</td>\n",
       "      <td>0.00009</td>\n",
       "      <td>0.00544</td>\n",
       "      <td>0.00781</td>\n",
       "      <td>0.01633</td>\n",
       "      <td>0.05233</td>\n",
       "      <td>...</td>\n",
       "      <td>0.08270</td>\n",
       "      <td>0.01309</td>\n",
       "      <td>20.651</td>\n",
       "      <td>1</td>\n",
       "      <td>0.429895</td>\n",
       "      <td>0.825288</td>\n",
       "      <td>-4.443179</td>\n",
       "      <td>0.311173</td>\n",
       "      <td>2.342259</td>\n",
       "      <td>0.332634</td>\n",
       "    </tr>\n",
       "    <tr>\n",
       "      <th>3</th>\n",
       "      <td>phon_R01_S01_4</td>\n",
       "      <td>116.676</td>\n",
       "      <td>137.871</td>\n",
       "      <td>111.366</td>\n",
       "      <td>0.00997</td>\n",
       "      <td>0.00009</td>\n",
       "      <td>0.00502</td>\n",
       "      <td>0.00698</td>\n",
       "      <td>0.01505</td>\n",
       "      <td>0.05492</td>\n",
       "      <td>...</td>\n",
       "      <td>0.08771</td>\n",
       "      <td>0.01353</td>\n",
       "      <td>20.644</td>\n",
       "      <td>1</td>\n",
       "      <td>0.434969</td>\n",
       "      <td>0.819235</td>\n",
       "      <td>-4.117501</td>\n",
       "      <td>0.334147</td>\n",
       "      <td>2.405554</td>\n",
       "      <td>0.368975</td>\n",
       "    </tr>\n",
       "    <tr>\n",
       "      <th>4</th>\n",
       "      <td>phon_R01_S01_5</td>\n",
       "      <td>116.014</td>\n",
       "      <td>141.781</td>\n",
       "      <td>110.655</td>\n",
       "      <td>0.01284</td>\n",
       "      <td>0.00011</td>\n",
       "      <td>0.00655</td>\n",
       "      <td>0.00908</td>\n",
       "      <td>0.01966</td>\n",
       "      <td>0.06425</td>\n",
       "      <td>...</td>\n",
       "      <td>0.10470</td>\n",
       "      <td>0.01767</td>\n",
       "      <td>19.649</td>\n",
       "      <td>1</td>\n",
       "      <td>0.417356</td>\n",
       "      <td>0.823484</td>\n",
       "      <td>-3.747787</td>\n",
       "      <td>0.234513</td>\n",
       "      <td>2.332180</td>\n",
       "      <td>0.410335</td>\n",
       "    </tr>\n",
       "  </tbody>\n",
       "</table>\n",
       "<p>5 rows × 24 columns</p>\n",
       "</div>"
      ],
      "text/plain": [
       "             name  MDVP:Fo(Hz)  MDVP:Fhi(Hz)  MDVP:Flo(Hz)  MDVP:Jitter(%)  \\\n",
       "0  phon_R01_S01_1      119.992       157.302        74.997         0.00784   \n",
       "1  phon_R01_S01_2      122.400       148.650       113.819         0.00968   \n",
       "2  phon_R01_S01_3      116.682       131.111       111.555         0.01050   \n",
       "3  phon_R01_S01_4      116.676       137.871       111.366         0.00997   \n",
       "4  phon_R01_S01_5      116.014       141.781       110.655         0.01284   \n",
       "\n",
       "   MDVP:Jitter(Abs)  MDVP:RAP  MDVP:PPQ  Jitter:DDP  MDVP:Shimmer  ...  \\\n",
       "0           0.00007   0.00370   0.00554     0.01109       0.04374  ...   \n",
       "1           0.00008   0.00465   0.00696     0.01394       0.06134  ...   \n",
       "2           0.00009   0.00544   0.00781     0.01633       0.05233  ...   \n",
       "3           0.00009   0.00502   0.00698     0.01505       0.05492  ...   \n",
       "4           0.00011   0.00655   0.00908     0.01966       0.06425  ...   \n",
       "\n",
       "   Shimmer:DDA      NHR     HNR  status      RPDE       DFA   spread1  \\\n",
       "0      0.06545  0.02211  21.033       1  0.414783  0.815285 -4.813031   \n",
       "1      0.09403  0.01929  19.085       1  0.458359  0.819521 -4.075192   \n",
       "2      0.08270  0.01309  20.651       1  0.429895  0.825288 -4.443179   \n",
       "3      0.08771  0.01353  20.644       1  0.434969  0.819235 -4.117501   \n",
       "4      0.10470  0.01767  19.649       1  0.417356  0.823484 -3.747787   \n",
       "\n",
       "    spread2        D2       PPE  \n",
       "0  0.266482  2.301442  0.284654  \n",
       "1  0.335590  2.486855  0.368674  \n",
       "2  0.311173  2.342259  0.332634  \n",
       "3  0.334147  2.405554  0.368975  \n",
       "4  0.234513  2.332180  0.410335  \n",
       "\n",
       "[5 rows x 24 columns]"
      ]
     },
     "execution_count": 11,
     "metadata": {},
     "output_type": "execute_result"
    }
   ],
   "source": [
    "parkinsons_df.head(5)"
   ]
  },
  {
   "cell_type": "code",
   "execution_count": 12,
   "id": "9ea2852e-039a-4231-8cba-05d845556d3b",
   "metadata": {},
   "outputs": [
    {
     "data": {
      "text/plain": [
       "Index(['name', 'MDVP:Fo(Hz)', 'MDVP:Fhi(Hz)', 'MDVP:Flo(Hz)', 'MDVP:Jitter(%)',\n",
       "       'MDVP:Jitter(Abs)', 'MDVP:RAP', 'MDVP:PPQ', 'Jitter:DDP',\n",
       "       'MDVP:Shimmer', 'MDVP:Shimmer(dB)', 'Shimmer:APQ3', 'Shimmer:APQ5',\n",
       "       'MDVP:APQ', 'Shimmer:DDA', 'NHR', 'HNR', 'status', 'RPDE', 'DFA',\n",
       "       'spread1', 'spread2', 'D2', 'PPE'],\n",
       "      dtype='object')"
      ]
     },
     "execution_count": 12,
     "metadata": {},
     "output_type": "execute_result"
    }
   ],
   "source": [
    "parkinsons_df.columns"
   ]
  },
  {
   "cell_type": "code",
   "execution_count": 13,
   "id": "cf88cda2-5d56-4947-918f-81b44510e19d",
   "metadata": {},
   "outputs": [],
   "source": [
    "automl_settings = {\n",
    "    \"experiment_timeout_minutes\": 15,\n",
    "    \"iteration_timeout_minutes\":2,\n",
    "    \"max_concurrent_iterations\": 5,\n",
    "    \"primary_metric\" : 'accuracy',\n",
    "    \"enable_early_stopping\":True,\n",
    "    \"featurization\":'auto'\n",
    "}"
   ]
  },
  {
   "cell_type": "code",
   "execution_count": 14,
   "id": "cf4bfceb-d985-4870-9a0f-a293d6f98612",
   "metadata": {},
   "outputs": [],
   "source": [
    "automl_config = AutoMLConfig(\n",
    "                             task = \"classification\",\n",
    "                             training_data=parkinsons_df,\n",
    "                             label_column_name=\"status\",   \n",
    "                             path = project_folder,\n",
    "                             debug_log = \"automl_errors.log\",\n",
    "                             **automl_settings\n",
    "                            )"
   ]
  },
  {
   "cell_type": "code",
   "execution_count": 15,
   "id": "cd8beae6-aa01-43e8-b1b0-de494a8d5471",
   "metadata": {},
   "outputs": [
    {
     "name": "stdout",
     "output_type": "stream",
     "text": [
      "No run_configuration provided, running on local with default configuration\n"
     ]
    },
    {
     "name": "stderr",
     "output_type": "stream",
     "text": [
      "2022-04-11:14:46:23,157 INFO     [modeling_bert.py:226] Better speed can be achieved with apex installed from https://www.github.com/nvidia/apex .\n",
      "2022-04-11:14:46:23,163 INFO     [modeling_xlnet.py:339] Better speed can be achieved with apex installed from https://www.github.com/nvidia/apex .\n"
     ]
    },
    {
     "name": "stdout",
     "output_type": "stream",
     "text": [
      "Running in the active local environment.\n"
     ]
    },
    {
     "data": {
      "text/html": [
       "<table style=\"width:100%\"><tr><th>Experiment</th><th>Id</th><th>Type</th><th>Status</th><th>Details Page</th><th>Docs Page</th></tr><tr><td>automl-capstone</td><td>AutoML_5d84289e-7b7a-401f-ad36-71dcf37002e0</td><td>automl</td><td>Preparing</td><td><a href=\"https://ml.azure.com/runs/AutoML_5d84289e-7b7a-401f-ad36-71dcf37002e0?wsid=/subscriptions/d6ebc258-732e-4a76-8d46-be5af7f5737d/resourcegroups/tsar/workspaces/endofproj&amp;tid=52299ebb-8afb-45a8-8e21-7df88891d90a\" target=\"_blank\" rel=\"noopener\">Link to Azure Machine Learning studio</a></td><td><a href=\"https://docs.microsoft.com/en-us/python/api/overview/azure/ml/intro?view=azure-ml-py\" target=\"_blank\" rel=\"noopener\">Link to Documentation</a></td></tr></table>"
      ],
      "text/plain": [
       "<IPython.core.display.HTML object>"
      ]
     },
     "metadata": {},
     "output_type": "display_data"
    },
    {
     "name": "stdout",
     "output_type": "stream",
     "text": [
      "Current status: DatasetEvaluation. Gathering dataset statistics.\n",
      "Current status: FeaturesGeneration. Generating features for the dataset.\n",
      "Current status: DatasetFeaturization. Beginning to fit featurizers and featurize the dataset.\n",
      "Current status: DatasetFeaturizationCompleted. Completed fit featurizers and featurizing the dataset.\n",
      "Current status: DatasetCrossValidationSplit. Generating individually featurized CV splits.\n",
      "\n",
      "********************************************************************************************\n",
      "DATA GUARDRAILS: \n",
      "\n",
      "TYPE:         Cross validation\n",
      "STATUS:       DONE\n",
      "DESCRIPTION:  Each iteration of the trained model was validated through cross-validation.\n",
      "              \n",
      "DETAILS:      \n",
      "+------------------------------+\n",
      "|Number of folds               |\n",
      "+==============================+\n",
      "|10                            |\n",
      "+------------------------------+\n",
      "\n",
      "********************************************************************************************\n",
      "\n",
      "TYPE:         Class balancing detection\n",
      "STATUS:       PASSED\n",
      "DESCRIPTION:  Your inputs were analyzed, and all classes are balanced in your training data.\n",
      "              Learn more about imbalanced data: https://aka.ms/AutomatedMLImbalancedData\n",
      "\n",
      "********************************************************************************************\n",
      "\n",
      "TYPE:         Missing feature values imputation\n",
      "STATUS:       PASSED\n",
      "DESCRIPTION:  No feature missing values were detected in the training data.\n",
      "              Learn more about missing value imputation: https://aka.ms/AutomatedMLFeaturization\n",
      "\n",
      "********************************************************************************************\n",
      "\n",
      "TYPE:         High cardinality feature detection\n",
      "STATUS:       DONE\n",
      "DESCRIPTION:  The training data had the following high cardinality features which were excluded for training. Please review your data source and possibly filter out these columns. If you want to include these features for training, you can override column purpose with appropriate column type.\n",
      "              Learn more about high cardinality feature handling: https://aka.ms/AutomatedMLFeaturization\n",
      "DETAILS:      High cardinality features refer to columns that contain a large percentage of unique values.\n",
      "+------------------------------+------------------------------+\n",
      "|Column name                   |Column Content Type           |\n",
      "+==============================+==============================+\n",
      "|name                          |hashes                        |\n",
      "+------------------------------+------------------------------+\n",
      "\n",
      "********************************************************************************************\n",
      "Current status: ModelSelection. Beginning model selection.\n",
      "\n",
      "********************************************************************************************\n",
      "ITER: The iteration being evaluated.\n",
      "PIPELINE: A summary description of the pipeline being evaluated.\n",
      "DURATION: Time taken for the current iteration.\n",
      "METRIC: The result of computing score on the fitted pipeline.\n",
      "BEST: The best observed score thus far.\n",
      "********************************************************************************************\n",
      "\n",
      " ITER   PIPELINE                                       DURATION            METRIC      BEST\n",
      "    0   MaxAbsScaler LightGBM                          0:00:31             0.9384    0.9384\n",
      "    1   MaxAbsScaler XGBoostClassifier                 0:00:33             0.9074    0.9384\n",
      "    2   MaxAbsScaler ExtremeRandomTrees                0:00:31             0.7895    0.9384\n",
      "    3   SparseNormalizer XGBoostClassifier             0:00:30             0.8968    0.9384\n",
      "    4   StandardScalerWrapper KNN                      0:00:31             0.8400    0.9384\n",
      "    5   MaxAbsScaler LightGBM                          0:00:29             0.8561    0.9384\n",
      "    6   RobustScaler LogisticRegression                0:00:28             0.8100    0.9384\n",
      "    7   MaxAbsScaler LightGBM                          0:00:27             0.8616    0.9384\n",
      "    8   StandardScalerWrapper KNN                      0:00:29             0.8403    0.9384\n",
      "    9   StandardScalerWrapper SVM                      0:00:30             0.9334    0.9384\n",
      "   10   StandardScalerWrapper XGBoostClassifier        0:00:29             0.9026    0.9384\n",
      "   11   MinMaxScaler RandomForest                      0:00:33             0.7897    0.9384\n",
      "   12   StandardScalerWrapper LogisticRegression       0:00:28             0.8508    0.9384\n",
      "   13   StandardScalerWrapper KNN                      0:00:28             0.8663    0.9384\n",
      "   14   RobustScaler KNN                               0:00:29             0.9129    0.9384\n",
      "   15   MinMaxScaler KNN                               0:00:28             0.9437    0.9437\n",
      "   16   SparseNormalizer KNN                           0:00:30             0.7995    0.9437\n",
      "   17   MaxAbsScaler LogisticRegression                0:00:28             0.8455    0.9437\n",
      "   18   StandardScalerWrapper XGBoostClassifier        0:00:28             0.8868    0.9437\n",
      "   19   StandardScalerWrapper XGBoostClassifier        0:00:29             0.8918    0.9437\n",
      "   20   MaxAbsScaler LogisticRegression                0:00:28             0.8505    0.9437\n",
      "   21   StandardScalerWrapper XGBoostClassifier        0:00:30             0.8818    0.9437\n",
      "   22   MinMaxScaler RandomForest                      0:00:30             0.9026    0.9437\n",
      "   23   StandardScalerWrapper LightGBM                 0:00:28             0.8618    0.9437\n",
      "   24   MaxAbsScaler LightGBM                          0:00:29             0.8768    0.9437\n",
      "   25   MinMaxScaler KNN                               0:00:29             0.9282    0.9437\n",
      "   26   StandardScalerWrapper LightGBM                 0:00:28             0.8771    0.9437\n",
      "   27   StandardScalerWrapper XGBoostClassifier        0:00:28             0.8918    0.9437\n",
      "   28   MaxAbsScaler LightGBM                          0:00:27             0.8768    0.9437\n",
      "   29   VotingEnsemble                                 0:00:39             0.9542    0.9542\n",
      "   30   StackEnsemble                                  0:00:39             0.9229    0.9542\n",
      "Stopping criteria reached at iteration 31. Ending experiment.\n",
      "********************************************************************************************\n",
      "Current status: BestRunExplainModel. Best run model explanations started\n",
      "Current status: ModelExplanationDataSetSetup. Model explanations data setup completed\n",
      "Current status: PickSurrogateModel. Choosing LightGBM as the surrogate model for explanations\n",
      "Current status: EngineeredFeatureExplanations. Computation of engineered features started\n"
     ]
    },
    {
     "name": "stderr",
     "output_type": "stream",
     "text": [
      "2022-04-11:15:05:13,512 INFO     [explanation_client.py:334] Using default datastore for uploads\n"
     ]
    },
    {
     "name": "stdout",
     "output_type": "stream",
     "text": [
      "Current status: EngineeredFeatureExplanations. Computation of engineered features completed\n",
      "Current status: RawFeaturesExplanations. Computation of raw features started\n",
      "Current status: RawFeaturesExplanations. Computation of raw features completed\n",
      "Current status: BestRunExplainModel. Best run model explanations completed\n",
      "********************************************************************************************\n"
     ]
    }
   ],
   "source": [
    "run = experiment.submit(automl_config, show_output=True)"
   ]
  },
  {
   "cell_type": "code",
   "execution_count": 20,
   "id": "ad136359-ecb9-4fd6-905a-dd24198737a9",
   "metadata": {},
   "outputs": [
    {
     "data": {
      "application/vnd.jupyter.widget-view+json": {
       "model_id": "5589295fb2ec4742a8be6068e62e0063",
       "version_major": 2,
       "version_minor": 0
      },
      "text/plain": [
       "_AutoMLWidget(widget_settings={'childWidgetDisplay': 'popup', 'send_telemetry': False, 'log_level': 'INFO', 's…"
      ]
     },
     "metadata": {},
     "output_type": "display_data"
    },
    {
     "data": {
      "application/aml.mini.widget.v1": "{\"status\": \"Completed\", \"workbench_run_details_uri\": \"https://ml.azure.com/runs/AutoML_5d84289e-7b7a-401f-ad36-71dcf37002e0?wsid=/subscriptions/d6ebc258-732e-4a76-8d46-be5af7f5737d/resourcegroups/tsar/workspaces/endofproj&tid=52299ebb-8afb-45a8-8e21-7df88891d90a\", \"run_id\": \"AutoML_5d84289e-7b7a-401f-ad36-71dcf37002e0\", \"run_properties\": {\"run_id\": \"AutoML_5d84289e-7b7a-401f-ad36-71dcf37002e0\", \"created_utc\": \"2022-04-11T14:46:26.36653Z\", \"properties\": {\"num_iterations\": \"1000\", \"training_type\": \"TrainFull\", \"acquisition_function\": \"EI\", \"primary_metric\": \"accuracy\", \"train_split\": \"0\", \"acquisition_parameter\": \"0\", \"num_cross_validation\": null, \"target\": \"local\", \"AMLSettingsJsonString\": \"{\\\"path\\\":null,\\\"name\\\":\\\"automl-capstone\\\",\\\"subscription_id\\\":\\\"d6ebc258-732e-4a76-8d46-be5af7f5737d\\\",\\\"resource_group\\\":\\\"tsar\\\",\\\"workspace_name\\\":\\\"endofproj\\\",\\\"region\\\":\\\"eastus2\\\",\\\"compute_target\\\":\\\"local\\\",\\\"spark_service\\\":null,\\\"azure_service\\\":\\\"Microsoft.AzureNotebookVM\\\",\\\"many_models\\\":false,\\\"pipeline_fetch_max_batch_size\\\":1,\\\"enable_batch_run\\\":false,\\\"enable_run_restructure\\\":false,\\\"start_auxiliary_runs_before_parent_complete\\\":false,\\\"enable_code_generation\\\":false,\\\"iterations\\\":1000,\\\"primary_metric\\\":\\\"accuracy\\\",\\\"task_type\\\":\\\"classification\\\",\\\"positive_label\\\":null,\\\"data_script\\\":null,\\\"test_size\\\":0.0,\\\"test_include_predictions_only\\\":false,\\\"validation_size\\\":0.0,\\\"n_cross_validations\\\":null,\\\"y_min\\\":null,\\\"y_max\\\":null,\\\"num_classes\\\":null,\\\"featurization\\\":\\\"auto\\\",\\\"_ignore_package_version_incompatibilities\\\":false,\\\"is_timeseries\\\":false,\\\"max_cores_per_iteration\\\":1,\\\"max_concurrent_iterations\\\":5,\\\"iteration_timeout_minutes\\\":2,\\\"mem_in_mb\\\":null,\\\"enforce_time_on_windows\\\":false,\\\"experiment_timeout_minutes\\\":15,\\\"experiment_exit_score\\\":null,\\\"partition_column_names\\\":null,\\\"whitelist_models\\\":null,\\\"blacklist_algos\\\":[\\\"TensorFlowLinearClassifier\\\",\\\"TensorFlowDNN\\\"],\\\"supported_models\\\":[\\\"BernoulliNaiveBayes\\\",\\\"XGBoostClassifier\\\",\\\"MultinomialNaiveBayes\\\",\\\"GradientBoosting\\\",\\\"TensorFlowLinearClassifier\\\",\\\"KNN\\\",\\\"LightGBM\\\",\\\"ExtremeRandomTrees\\\",\\\"LogisticRegression\\\",\\\"AveragedPerceptronClassifier\\\",\\\"SGD\\\",\\\"DecisionTree\\\",\\\"SVM\\\",\\\"RandomForest\\\",\\\"LinearSVM\\\",\\\"TensorFlowDNN\\\",\\\"TabnetClassifier\\\"],\\\"private_models\\\":[],\\\"auto_blacklist\\\":true,\\\"blacklist_samples_reached\\\":false,\\\"exclude_nan_labels\\\":true,\\\"verbosity\\\":20,\\\"_debug_log\\\":\\\"automl_errors.log\\\",\\\"show_warnings\\\":false,\\\"model_explainability\\\":true,\\\"service_url\\\":null,\\\"sdk_url\\\":null,\\\"sdk_packages\\\":null,\\\"enable_onnx_compatible_models\\\":false,\\\"enable_split_onnx_featurizer_estimator_models\\\":false,\\\"vm_type\\\":null,\\\"telemetry_verbosity\\\":20,\\\"send_telemetry\\\":true,\\\"enable_dnn\\\":false,\\\"scenario\\\":\\\"SDK-1.13.0\\\",\\\"environment_label\\\":null,\\\"save_mlflow\\\":false,\\\"enable_categorical_indicators\\\":false,\\\"force_text_dnn\\\":false,\\\"enable_feature_sweeping\\\":true,\\\"enable_early_stopping\\\":true,\\\"early_stopping_n_iters\\\":10,\\\"arguments\\\":null,\\\"dataset_id\\\":null,\\\"hyperdrive_config\\\":null,\\\"validation_dataset_id\\\":null,\\\"run_source\\\":null,\\\"metrics\\\":null,\\\"enable_metric_confidence\\\":false,\\\"enable_ensembling\\\":true,\\\"enable_stack_ensembling\\\":true,\\\"ensemble_iterations\\\":15,\\\"enable_tf\\\":false,\\\"enable_subsampling\\\":null,\\\"subsample_seed\\\":null,\\\"enable_nimbusml\\\":false,\\\"enable_streaming\\\":false,\\\"force_streaming\\\":false,\\\"track_child_runs\\\":true,\\\"allowed_private_models\\\":[],\\\"label_column_name\\\":\\\"status\\\",\\\"weight_column_name\\\":null,\\\"cv_split_column_names\\\":null,\\\"enable_local_managed\\\":false,\\\"_local_managed_run_id\\\":null,\\\"cost_mode\\\":1,\\\"lag_length\\\":0,\\\"metric_operation\\\":\\\"maximize\\\",\\\"preprocess\\\":true}\", \"DataPrepJsonString\": null, \"EnableSubsampling\": null, \"runTemplate\": \"AutoML\", \"azureml.runsource\": \"automl\", \"display_task_type\": \"classification\", \"dependencies_versions\": \"{\\\"azureml-widgets\\\": \\\"1.39.0\\\", \\\"azureml-training-tabular\\\": \\\"1.39.0\\\", \\\"azureml-train\\\": \\\"1.39.0\\\", \\\"azureml-train-restclients-hyperdrive\\\": \\\"1.39.0\\\", \\\"azureml-train-core\\\": \\\"1.39.0\\\", \\\"azureml-train-automl\\\": \\\"1.39.0\\\", \\\"azureml-train-automl-runtime\\\": \\\"1.39.0\\\", \\\"azureml-train-automl-client\\\": \\\"1.39.0\\\", \\\"azureml-tensorboard\\\": \\\"1.39.0\\\", \\\"azureml-telemetry\\\": \\\"1.39.0\\\", \\\"azureml-sdk\\\": \\\"1.39.0\\\", \\\"azureml-samples\\\": \\\"0+unknown\\\", \\\"azureml-responsibleai\\\": \\\"1.39.0\\\", \\\"azureml-pipeline\\\": \\\"1.39.0\\\", \\\"azureml-pipeline-steps\\\": \\\"1.39.0\\\", \\\"azureml-pipeline-core\\\": \\\"1.39.0\\\", \\\"azureml-opendatasets\\\": \\\"1.39.0\\\", \\\"azureml-mlflow\\\": \\\"1.39.0\\\", \\\"azureml-interpret\\\": \\\"1.39.0\\\", \\\"azureml-inference-server-http\\\": \\\"0.4.10\\\", \\\"azureml-explain-model\\\": \\\"1.39.0\\\", \\\"azureml-defaults\\\": \\\"1.39.0\\\", \\\"azureml-dataset-runtime\\\": \\\"1.39.0\\\", \\\"azureml-dataprep\\\": \\\"2.27.1\\\", \\\"azureml-dataprep-rslex\\\": \\\"2.3.1\\\", \\\"azureml-dataprep-native\\\": \\\"38.0.0\\\", \\\"azureml-datadrift\\\": \\\"1.39.0\\\", \\\"azureml-core\\\": \\\"1.39.0\\\", \\\"azureml-contrib-services\\\": \\\"1.39.0\\\", \\\"azureml-contrib-server\\\": \\\"1.39.0\\\", \\\"azureml-contrib-reinforcementlearning\\\": \\\"1.39.0\\\", \\\"azureml-contrib-pipeline-steps\\\": \\\"1.39.0\\\", \\\"azureml-contrib-notebook\\\": \\\"1.39.0\\\", \\\"azureml-contrib-fairness\\\": \\\"1.39.0\\\", \\\"azureml-contrib-dataset\\\": \\\"1.39.0\\\", \\\"azureml-contrib-automl-pipeline-steps\\\": \\\"1.39.0\\\", \\\"azureml-cli-common\\\": \\\"1.39.0\\\", \\\"azureml-automl-runtime\\\": \\\"1.39.0\\\", \\\"azureml-automl-dnn-nlp\\\": \\\"1.39.0\\\", \\\"azureml-automl-core\\\": \\\"1.39.0\\\", \\\"azureml-accel-models\\\": \\\"1.39.0\\\"}\", \"_aml_system_scenario_identification\": \"Local.Parent\", \"ClientSdkVersion\": \"1.39.0\", \"ClientType\": \"SDK\", \"environment_cpu_name\": \"AzureML-AutoML\", \"environment_cpu_label\": \"prod\", \"environment_gpu_name\": \"AzureML-AutoML-GPU\", \"environment_gpu_label\": \"prod\", \"root_attribution\": \"automl\", \"attribution\": \"AutoML\", \"Orchestrator\": \"AutoML\", \"_azureml.ComputeTargetType\": \"local\", \"ProblemInfoJsonString\": \"{\\\"dataset_num_categorical\\\": 0, \\\"is_sparse\\\": false, \\\"subsampling\\\": false, \\\"has_extra_col\\\": true, \\\"dataset_classes\\\": 2, \\\"dataset_features\\\": 22, \\\"dataset_samples\\\": 195, \\\"single_frequency_class_detected\\\": false}\"}, \"tags\": {\"model_explain_run\": \"best_run\", \"_aml_system_automl_run_workspace_id\": \"f90dc67c-0455-4c54-bf9c-7fa2cebabf3f\", \"best_score\": \"0.9542105263157895\", \"best_pipeline\": \"VotingEnsemble\", \"automl_best_child_run_id\": \"AutoML_5d84289e-7b7a-401f-ad36-71dcf37002e0_29\", \"model_explain_best_run_child_id\": \"AutoML_5d84289e-7b7a-401f-ad36-71dcf37002e0_29\"}, \"end_time_utc\": \"2022-04-11T15:03:03.013975Z\", \"status\": \"Completed\", \"log_files\": {}, \"log_groups\": [], \"run_duration\": \"0:16:36\", \"run_number\": \"1649688386\", \"run_queued_details\": {\"status\": \"Completed\", \"details\": null}}, \"child_runs\": [{\"run_id\": \"AutoML_5d84289e-7b7a-401f-ad36-71dcf37002e0_0\", \"run_number\": 1649688408, \"metric\": null, \"status\": \"Completed\", \"run_type\": null, \"training_percent\": \"100\", \"start_time\": \"2022-04-11T14:46:48.398631Z\", \"end_time\": \"2022-04-11T14:47:19.488654Z\", \"created_time\": \"2022-04-11T14:46:48.30453Z\", \"created_time_dt\": \"2022-04-11T14:46:48.30453Z\", \"duration\": \"0:00:31\", \"iteration\": \"0\", \"goal\": \"accuracy_max\", \"run_name\": \"MaxAbsScaler, LightGBM\", \"run_properties\": \"copy=True\", \"primary_metric\": 0.93842105, \"best_metric\": 0.93842105}, {\"run_id\": \"AutoML_5d84289e-7b7a-401f-ad36-71dcf37002e0_1\", \"run_number\": 1649688439, \"metric\": null, \"status\": \"Completed\", \"run_type\": null, \"training_percent\": \"100\", \"start_time\": \"2022-04-11T14:47:19.779071Z\", \"end_time\": \"2022-04-11T14:47:53.192433Z\", \"created_time\": \"2022-04-11T14:47:19.690864Z\", \"created_time_dt\": \"2022-04-11T14:47:19.690864Z\", \"duration\": \"0:00:33\", \"iteration\": \"1\", \"goal\": \"accuracy_max\", \"run_name\": \"MaxAbsScaler, XGBoostClassifier\", \"run_properties\": \"copy=True\", \"primary_metric\": 0.90736842, \"best_metric\": 0.93842105}, {\"run_id\": \"AutoML_5d84289e-7b7a-401f-ad36-71dcf37002e0_2\", \"run_number\": 1649688473, \"metric\": null, \"status\": \"Completed\", \"run_type\": null, \"training_percent\": \"100\", \"start_time\": \"2022-04-11T14:47:53.853517Z\", \"end_time\": \"2022-04-11T14:48:24.90625Z\", \"created_time\": \"2022-04-11T14:47:53.716671Z\", \"created_time_dt\": \"2022-04-11T14:47:53.716671Z\", \"duration\": \"0:00:31\", \"iteration\": \"2\", \"goal\": \"accuracy_max\", \"run_name\": \"MaxAbsScaler, ExtremeRandomTrees\", \"run_properties\": \"copy=True\", \"primary_metric\": 0.78947368, \"best_metric\": 0.93842105}, {\"run_id\": \"AutoML_5d84289e-7b7a-401f-ad36-71dcf37002e0_3\", \"run_number\": 1649688511, \"metric\": null, \"status\": \"Completed\", \"run_type\": null, \"training_percent\": \"100\", \"start_time\": \"2022-04-11T14:48:31.854872Z\", \"end_time\": \"2022-04-11T14:49:02.109751Z\", \"created_time\": \"2022-04-11T14:48:31.654473Z\", \"created_time_dt\": \"2022-04-11T14:48:31.654473Z\", \"duration\": \"0:00:30\", \"iteration\": \"3\", \"goal\": \"accuracy_max\", \"run_name\": \"SparseNormalizer, XGBoostClassifier\", \"run_properties\": \"copy=True, norm='l2'\", \"primary_metric\": 0.89684211, \"best_metric\": 0.93842105}, {\"run_id\": \"AutoML_5d84289e-7b7a-401f-ad36-71dcf37002e0_4\", \"run_number\": 1649688543, \"metric\": null, \"status\": \"Completed\", \"run_type\": null, \"training_percent\": \"100\", \"start_time\": \"2022-04-11T14:49:03.376947Z\", \"end_time\": \"2022-04-11T14:49:34.394635Z\", \"created_time\": \"2022-04-11T14:49:03.27909Z\", \"created_time_dt\": \"2022-04-11T14:49:03.27909Z\", \"duration\": \"0:00:31\", \"iteration\": \"4\", \"goal\": \"accuracy_max\", \"run_name\": \"StandardScalerWrapper, KNN\", \"run_properties\": \"copy=True, with_mean=False, with_std=False\", \"primary_metric\": 0.84, \"best_metric\": 0.93842105}, {\"run_id\": \"AutoML_5d84289e-7b7a-401f-ad36-71dcf37002e0_5\", \"run_number\": 1649688575, \"metric\": null, \"status\": \"Completed\", \"run_type\": null, \"training_percent\": \"100\", \"start_time\": \"2022-04-11T14:49:35.495934Z\", \"end_time\": \"2022-04-11T14:50:04.854604Z\", \"created_time\": \"2022-04-11T14:49:35.406346Z\", \"created_time_dt\": \"2022-04-11T14:49:35.406346Z\", \"duration\": \"0:00:29\", \"iteration\": \"5\", \"goal\": \"accuracy_max\", \"run_name\": \"MaxAbsScaler, LightGBM\", \"run_properties\": \"copy=True\", \"primary_metric\": 0.85605263, \"best_metric\": 0.93842105}, {\"run_id\": \"AutoML_5d84289e-7b7a-401f-ad36-71dcf37002e0_6\", \"run_number\": 1649688606, \"metric\": null, \"status\": \"Completed\", \"run_type\": null, \"training_percent\": \"100\", \"start_time\": \"2022-04-11T14:50:06.240894Z\", \"end_time\": \"2022-04-11T14:50:34.637687Z\", \"created_time\": \"2022-04-11T14:50:06.077102Z\", \"created_time_dt\": \"2022-04-11T14:50:06.077102Z\", \"duration\": \"0:00:28\", \"iteration\": \"6\", \"goal\": \"accuracy_max\", \"run_name\": \"RobustScaler, LogisticRegression\", \"run_properties\": \"copy=True, quantile_range=[10, 90], with_centering=True,\\n             with_scaling=True\", \"primary_metric\": 0.81, \"best_metric\": 0.93842105}, {\"run_id\": \"AutoML_5d84289e-7b7a-401f-ad36-71dcf37002e0_7\", \"run_number\": 1649688635, \"metric\": null, \"status\": \"Completed\", \"run_type\": null, \"training_percent\": \"100\", \"start_time\": \"2022-04-11T14:50:35.84177Z\", \"end_time\": \"2022-04-11T14:51:03.671779Z\", \"created_time\": \"2022-04-11T14:50:35.748065Z\", \"created_time_dt\": \"2022-04-11T14:50:35.748065Z\", \"duration\": \"0:00:27\", \"iteration\": \"7\", \"goal\": \"accuracy_max\", \"run_name\": \"MaxAbsScaler, LightGBM\", \"run_properties\": \"copy=True\", \"primary_metric\": 0.86157895, \"best_metric\": 0.93842105}, {\"run_id\": \"AutoML_5d84289e-7b7a-401f-ad36-71dcf37002e0_8\", \"run_number\": 1649688664, \"metric\": null, \"status\": \"Completed\", \"run_type\": null, \"training_percent\": \"100\", \"start_time\": \"2022-04-11T14:51:04.823832Z\", \"end_time\": \"2022-04-11T14:51:34.291926Z\", \"created_time\": \"2022-04-11T14:51:04.723388Z\", \"created_time_dt\": \"2022-04-11T14:51:04.723388Z\", \"duration\": \"0:00:29\", \"iteration\": \"8\", \"goal\": \"accuracy_max\", \"run_name\": \"StandardScalerWrapper, KNN\", \"run_properties\": \"copy=True, with_mean=False, with_std=False\", \"primary_metric\": 0.84026316, \"best_metric\": 0.93842105}, {\"run_id\": \"AutoML_5d84289e-7b7a-401f-ad36-71dcf37002e0_9\", \"run_number\": 1649688695, \"metric\": null, \"status\": \"Completed\", \"run_type\": null, \"training_percent\": \"100\", \"start_time\": \"2022-04-11T14:51:35.512774Z\", \"end_time\": \"2022-04-11T14:52:05.616172Z\", \"created_time\": \"2022-04-11T14:51:35.404829Z\", \"created_time_dt\": \"2022-04-11T14:51:35.404829Z\", \"duration\": \"0:00:30\", \"iteration\": \"9\", \"goal\": \"accuracy_max\", \"run_name\": \"StandardScalerWrapper, SVM\", \"run_properties\": \"copy=True, with_mean=True, with_std=True\", \"primary_metric\": 0.93342105, \"best_metric\": 0.93842105}, {\"run_id\": \"AutoML_5d84289e-7b7a-401f-ad36-71dcf37002e0_10\", \"run_number\": 1649688726, \"metric\": null, \"status\": \"Completed\", \"run_type\": null, \"training_percent\": \"100\", \"start_time\": \"2022-04-11T14:52:06.877094Z\", \"end_time\": \"2022-04-11T14:52:36.028667Z\", \"created_time\": \"2022-04-11T14:52:06.75202Z\", \"created_time_dt\": \"2022-04-11T14:52:06.75202Z\", \"duration\": \"0:00:29\", \"iteration\": \"10\", \"goal\": \"accuracy_max\", \"run_name\": \"StandardScalerWrapper, XGBoostClassifier\", \"run_properties\": \"copy=True, with_mean=False, with_std=False\", \"primary_metric\": 0.90263158, \"best_metric\": 0.93842105}, {\"run_id\": \"AutoML_5d84289e-7b7a-401f-ad36-71dcf37002e0_11\", \"run_number\": 1649688757, \"metric\": null, \"status\": \"Completed\", \"run_type\": null, \"training_percent\": \"100\", \"start_time\": \"2022-04-11T14:52:37.236055Z\", \"end_time\": \"2022-04-11T14:53:10.200076Z\", \"created_time\": \"2022-04-11T14:52:37.145463Z\", \"created_time_dt\": \"2022-04-11T14:52:37.145463Z\", \"duration\": \"0:00:33\", \"iteration\": \"11\", \"goal\": \"accuracy_max\", \"run_name\": \"MinMaxScaler, RandomForest\", \"run_properties\": \"copy=True, feature_range=(0, 1\", \"primary_metric\": 0.78973684, \"best_metric\": 0.93842105}, {\"run_id\": \"AutoML_5d84289e-7b7a-401f-ad36-71dcf37002e0_12\", \"run_number\": 1649688791, \"metric\": null, \"status\": \"Completed\", \"run_type\": null, \"training_percent\": \"100\", \"start_time\": \"2022-04-11T14:53:11.826336Z\", \"end_time\": \"2022-04-11T14:53:39.990754Z\", \"created_time\": \"2022-04-11T14:53:11.701525Z\", \"created_time_dt\": \"2022-04-11T14:53:11.701525Z\", \"duration\": \"0:00:28\", \"iteration\": \"12\", \"goal\": \"accuracy_max\", \"run_name\": \"StandardScalerWrapper, LogisticRegression\", \"run_properties\": \"copy=True, with_mean=True, with_std=False\", \"primary_metric\": 0.85078947, \"best_metric\": 0.93842105}, {\"run_id\": \"AutoML_5d84289e-7b7a-401f-ad36-71dcf37002e0_13\", \"run_number\": 1649688821, \"metric\": null, \"status\": \"Completed\", \"run_type\": null, \"training_percent\": \"100\", \"start_time\": \"2022-04-11T14:53:41.3059Z\", \"end_time\": \"2022-04-11T14:54:09.429801Z\", \"created_time\": \"2022-04-11T14:53:41.180685Z\", \"created_time_dt\": \"2022-04-11T14:53:41.180685Z\", \"duration\": \"0:00:28\", \"iteration\": \"13\", \"goal\": \"accuracy_max\", \"run_name\": \"StandardScalerWrapper, KNN\", \"run_properties\": \"copy=True, with_mean=False, with_std=True\", \"primary_metric\": 0.86631579, \"best_metric\": 0.93842105}, {\"run_id\": \"AutoML_5d84289e-7b7a-401f-ad36-71dcf37002e0_14\", \"run_number\": 1649688850, \"metric\": null, \"status\": \"Completed\", \"run_type\": null, \"training_percent\": \"100\", \"start_time\": \"2022-04-11T14:54:10.675745Z\", \"end_time\": \"2022-04-11T14:54:39.763605Z\", \"created_time\": \"2022-04-11T14:54:10.53375Z\", \"created_time_dt\": \"2022-04-11T14:54:10.53375Z\", \"duration\": \"0:00:29\", \"iteration\": \"14\", \"goal\": \"accuracy_max\", \"run_name\": \"RobustScaler, KNN\", \"run_properties\": \"copy=True, quantile_range=[10, 90], with_centering=False,\\n             with_scaling=True\", \"primary_metric\": 0.91289474, \"best_metric\": 0.93842105}, {\"run_id\": \"AutoML_5d84289e-7b7a-401f-ad36-71dcf37002e0_15\", \"run_number\": 1649688880, \"metric\": null, \"status\": \"Completed\", \"run_type\": null, \"training_percent\": \"100\", \"start_time\": \"2022-04-11T14:54:40.859107Z\", \"end_time\": \"2022-04-11T14:55:09.061872Z\", \"created_time\": \"2022-04-11T14:54:40.762235Z\", \"created_time_dt\": \"2022-04-11T14:54:40.762235Z\", \"duration\": \"0:00:28\", \"iteration\": \"15\", \"goal\": \"accuracy_max\", \"run_name\": \"MinMaxScaler, KNN\", \"run_properties\": \"copy=True, feature_range=(0, 1\", \"primary_metric\": 0.94368421, \"best_metric\": 0.94368421}, {\"run_id\": \"AutoML_5d84289e-7b7a-401f-ad36-71dcf37002e0_16\", \"run_number\": 1649688910, \"metric\": null, \"status\": \"Completed\", \"run_type\": null, \"training_percent\": \"100\", \"start_time\": \"2022-04-11T14:55:10.343347Z\", \"end_time\": \"2022-04-11T14:55:40.963893Z\", \"created_time\": \"2022-04-11T14:55:10.196435Z\", \"created_time_dt\": \"2022-04-11T14:55:10.196435Z\", \"duration\": \"0:00:30\", \"iteration\": \"16\", \"goal\": \"accuracy_max\", \"run_name\": \"SparseNormalizer, KNN\", \"run_properties\": \"copy=True, norm='max'\", \"primary_metric\": 0.79947368, \"best_metric\": 0.94368421}, {\"run_id\": \"AutoML_5d84289e-7b7a-401f-ad36-71dcf37002e0_17\", \"run_number\": 1649688942, \"metric\": null, \"status\": \"Completed\", \"run_type\": null, \"training_percent\": \"100\", \"start_time\": \"2022-04-11T14:55:42.184827Z\", \"end_time\": \"2022-04-11T14:56:10.247401Z\", \"created_time\": \"2022-04-11T14:55:42.083441Z\", \"created_time_dt\": \"2022-04-11T14:55:42.083441Z\", \"duration\": \"0:00:28\", \"iteration\": \"17\", \"goal\": \"accuracy_max\", \"run_name\": \"MaxAbsScaler, LogisticRegression\", \"run_properties\": \"copy=True\", \"primary_metric\": 0.84552632, \"best_metric\": 0.94368421}, {\"run_id\": \"AutoML_5d84289e-7b7a-401f-ad36-71dcf37002e0_18\", \"run_number\": 1649688971, \"metric\": null, \"status\": \"Completed\", \"run_type\": null, \"training_percent\": \"100\", \"start_time\": \"2022-04-11T14:56:11.478534Z\", \"end_time\": \"2022-04-11T14:56:39.965882Z\", \"created_time\": \"2022-04-11T14:56:11.35747Z\", \"created_time_dt\": \"2022-04-11T14:56:11.35747Z\", \"duration\": \"0:00:28\", \"iteration\": \"18\", \"goal\": \"accuracy_max\", \"run_name\": \"StandardScalerWrapper, XGBoostClassifier\", \"run_properties\": \"copy=True, with_mean=False, with_std=False\", \"primary_metric\": 0.88684211, \"best_metric\": 0.94368421}, {\"run_id\": \"AutoML_5d84289e-7b7a-401f-ad36-71dcf37002e0_19\", \"run_number\": 1649689001, \"metric\": null, \"status\": \"Completed\", \"run_type\": null, \"training_percent\": \"100\", \"start_time\": \"2022-04-11T14:56:41.104206Z\", \"end_time\": \"2022-04-11T14:57:10.040815Z\", \"created_time\": \"2022-04-11T14:56:41.004219Z\", \"created_time_dt\": \"2022-04-11T14:56:41.004219Z\", \"duration\": \"0:00:29\", \"iteration\": \"19\", \"goal\": \"accuracy_max\", \"run_name\": \"StandardScalerWrapper, XGBoostClassifier\", \"run_properties\": \"copy=True, with_mean=False, with_std=False\", \"primary_metric\": 0.89184211, \"best_metric\": 0.94368421}, {\"run_id\": \"AutoML_5d84289e-7b7a-401f-ad36-71dcf37002e0_20\", \"run_number\": 1649689031, \"metric\": null, \"status\": \"Completed\", \"run_type\": null, \"training_percent\": \"100\", \"start_time\": \"2022-04-11T14:57:11.390832Z\", \"end_time\": \"2022-04-11T14:57:39.953881Z\", \"created_time\": \"2022-04-11T14:57:11.251054Z\", \"created_time_dt\": \"2022-04-11T14:57:11.251054Z\", \"duration\": \"0:00:28\", \"iteration\": \"20\", \"goal\": \"accuracy_max\", \"run_name\": \"MaxAbsScaler, LogisticRegression\", \"run_properties\": \"copy=True\", \"primary_metric\": 0.85052632, \"best_metric\": 0.94368421}, {\"run_id\": \"AutoML_5d84289e-7b7a-401f-ad36-71dcf37002e0_21\", \"run_number\": 1649689061, \"metric\": null, \"status\": \"Completed\", \"run_type\": null, \"training_percent\": \"100\", \"start_time\": \"2022-04-11T14:57:41.296394Z\", \"end_time\": \"2022-04-11T14:58:11.940775Z\", \"created_time\": \"2022-04-11T14:57:41.152169Z\", \"created_time_dt\": \"2022-04-11T14:57:41.152169Z\", \"duration\": \"0:00:30\", \"iteration\": \"21\", \"goal\": \"accuracy_max\", \"run_name\": \"StandardScalerWrapper, XGBoostClassifier\", \"run_properties\": \"copy=True, with_mean=False, with_std=False\", \"primary_metric\": 0.88184211, \"best_metric\": 0.94368421}, {\"run_id\": \"AutoML_5d84289e-7b7a-401f-ad36-71dcf37002e0_22\", \"run_number\": 1649689093, \"metric\": null, \"status\": \"Completed\", \"run_type\": null, \"training_percent\": \"100\", \"start_time\": \"2022-04-11T14:58:13.319839Z\", \"end_time\": \"2022-04-11T14:58:43.993322Z\", \"created_time\": \"2022-04-11T14:58:13.122299Z\", \"created_time_dt\": \"2022-04-11T14:58:13.122299Z\", \"duration\": \"0:00:30\", \"iteration\": \"22\", \"goal\": \"accuracy_max\", \"run_name\": \"MinMaxScaler, RandomForest\", \"run_properties\": \"copy=True, feature_range=(0, 1\", \"primary_metric\": 0.90263158, \"best_metric\": 0.94368421}, {\"run_id\": \"AutoML_5d84289e-7b7a-401f-ad36-71dcf37002e0_23\", \"run_number\": 1649689124, \"metric\": null, \"status\": \"Completed\", \"run_type\": null, \"training_percent\": \"100\", \"start_time\": \"2022-04-11T14:58:45.04714Z\", \"end_time\": \"2022-04-11T14:59:13.161019Z\", \"created_time\": \"2022-04-11T14:58:44.951678Z\", \"created_time_dt\": \"2022-04-11T14:58:44.951678Z\", \"duration\": \"0:00:28\", \"iteration\": \"23\", \"goal\": \"accuracy_max\", \"run_name\": \"StandardScalerWrapper, LightGBM\", \"run_properties\": \"copy=True, with_mean=False, with_std=False\", \"primary_metric\": 0.86184211, \"best_metric\": 0.94368421}, {\"run_id\": \"AutoML_5d84289e-7b7a-401f-ad36-71dcf37002e0_24\", \"run_number\": 1649689154, \"metric\": null, \"status\": \"Completed\", \"run_type\": null, \"training_percent\": \"100\", \"start_time\": \"2022-04-11T14:59:14.173485Z\", \"end_time\": \"2022-04-11T14:59:43.632883Z\", \"created_time\": \"2022-04-11T14:59:14.064867Z\", \"created_time_dt\": \"2022-04-11T14:59:14.064867Z\", \"duration\": \"0:00:29\", \"iteration\": \"24\", \"goal\": \"accuracy_max\", \"run_name\": \"MaxAbsScaler, LightGBM\", \"run_properties\": \"copy=True\", \"primary_metric\": 0.87684211, \"best_metric\": 0.94368421}, {\"run_id\": \"AutoML_5d84289e-7b7a-401f-ad36-71dcf37002e0_25\", \"run_number\": 1649689185, \"metric\": null, \"status\": \"Completed\", \"run_type\": null, \"training_percent\": \"100\", \"start_time\": \"2022-04-11T14:59:45.602024Z\", \"end_time\": \"2022-04-11T15:00:14.8051Z\", \"created_time\": \"2022-04-11T14:59:45.495993Z\", \"created_time_dt\": \"2022-04-11T14:59:45.495993Z\", \"duration\": \"0:00:29\", \"iteration\": \"25\", \"goal\": \"accuracy_max\", \"run_name\": \"MinMaxScaler, KNN\", \"run_properties\": \"copy=True, feature_range=(0, 1\", \"primary_metric\": 0.92815789, \"best_metric\": 0.94368421}, {\"run_id\": \"AutoML_5d84289e-7b7a-401f-ad36-71dcf37002e0_26\", \"run_number\": 1649689215, \"metric\": null, \"status\": \"Completed\", \"run_type\": null, \"training_percent\": \"100\", \"start_time\": \"2022-04-11T15:00:15.931887Z\", \"end_time\": \"2022-04-11T15:00:44.581285Z\", \"created_time\": \"2022-04-11T15:00:15.814661Z\", \"created_time_dt\": \"2022-04-11T15:00:15.814661Z\", \"duration\": \"0:00:28\", \"iteration\": \"26\", \"goal\": \"accuracy_max\", \"run_name\": \"StandardScalerWrapper, LightGBM\", \"run_properties\": \"copy=True, with_mean=False, with_std=False\", \"primary_metric\": 0.87710526, \"best_metric\": 0.94368421}, {\"run_id\": \"AutoML_5d84289e-7b7a-401f-ad36-71dcf37002e0_27\", \"run_number\": 1649689245, \"metric\": null, \"status\": \"Completed\", \"run_type\": null, \"training_percent\": \"100\", \"start_time\": \"2022-04-11T15:00:45.645051Z\", \"end_time\": \"2022-04-11T15:01:14.212452Z\", \"created_time\": \"2022-04-11T15:00:45.550571Z\", \"created_time_dt\": \"2022-04-11T15:00:45.550571Z\", \"duration\": \"0:00:28\", \"iteration\": \"27\", \"goal\": \"accuracy_max\", \"run_name\": \"StandardScalerWrapper, XGBoostClassifier\", \"run_properties\": \"copy=True, with_mean=False, with_std=False\", \"primary_metric\": 0.89184211, \"best_metric\": 0.94368421}, {\"run_id\": \"AutoML_5d84289e-7b7a-401f-ad36-71dcf37002e0_28\", \"run_number\": 1649689275, \"metric\": null, \"status\": \"Completed\", \"run_type\": null, \"training_percent\": \"100\", \"start_time\": \"2022-04-11T15:01:15.326118Z\", \"end_time\": \"2022-04-11T15:01:43.183639Z\", \"created_time\": \"2022-04-11T15:01:15.225679Z\", \"created_time_dt\": \"2022-04-11T15:01:15.225679Z\", \"duration\": \"0:00:27\", \"iteration\": \"28\", \"goal\": \"accuracy_max\", \"run_name\": \"MaxAbsScaler, LightGBM\", \"run_properties\": \"copy=True\", \"primary_metric\": 0.87684211, \"best_metric\": 0.94368421}, {\"run_id\": \"AutoML_5d84289e-7b7a-401f-ad36-71dcf37002e0_29\", \"run_number\": 1649689303, \"metric\": null, \"status\": \"Completed\", \"run_type\": null, \"training_percent\": \"100\", \"start_time\": \"2022-04-11T15:01:43.42996Z\", \"end_time\": \"2022-04-11T15:02:22.679104Z\", \"created_time\": \"2022-04-11T15:01:43.348957Z\", \"created_time_dt\": \"2022-04-11T15:01:43.348957Z\", \"duration\": \"0:00:39\", \"iteration\": \"29\", \"goal\": \"accuracy_max\", \"run_name\": \"VotingEnsemble\", \"run_properties\": \"classification_labels=array([0, 1]\", \"primary_metric\": 0.95421053, \"best_metric\": 0.95421053}, {\"run_id\": \"AutoML_5d84289e-7b7a-401f-ad36-71dcf37002e0_30\", \"run_number\": 1649689342, \"metric\": null, \"status\": \"Completed\", \"run_type\": null, \"training_percent\": \"100\", \"start_time\": \"2022-04-11T15:02:23.065407Z\", \"end_time\": \"2022-04-11T15:03:02.625756Z\", \"created_time\": \"2022-04-11T15:02:22.92981Z\", \"created_time_dt\": \"2022-04-11T15:02:22.92981Z\", \"duration\": \"0:00:39\", \"iteration\": \"30\", \"goal\": \"accuracy_max\", \"run_name\": \"StackEnsemble\", \"run_properties\": \"base_learners=[('15', Pipeline(memory=None, steps=[('minmaxscaler', MinMaxScaler(copy=True, feature_range=(0, 1\", \"primary_metric\": 0.92289474, \"best_metric\": 0.95421053}], \"children_metrics\": {\"categories\": [0], \"series\": {\"matthews_correlation\": [{\"categories\": [\"0\", \"1\", \"2\", \"3\", \"4\", \"5\", \"6\", \"7\", \"8\", \"9\", \"10\", \"11\", \"12\", \"13\", \"14\", \"15\", \"16\", \"17\", \"18\", \"19\", \"20\", \"21\", \"22\", \"23\", \"24\", \"25\", \"26\", \"27\", \"28\", \"29\", \"30\"], \"mode\": \"markers\", \"name\": \"matthews_correlation\", \"stepped\": false, \"type\": \"scatter\", \"data\": [0.8221177980879764, 0.7311833844172131, 0.5121551527711794, 0.6536154703824049, 0.521967856624227, 0.5406905173654029, 0.5520435371140162, 0.550369713151659, 0.5273258372349242, 0.8204506071911254, 0.7314302697978121, 0.528750173411755, 0.5377796501017753, 0.5658098434019322, 0.7634553646828073, 0.8474290962042126, 0.3485656222529864, 0.5076146209172844, 0.6682116675943506, 0.6860106776520579, 0.5940009304712167, 0.6732178019775449, 0.7312236686204664, 0.563375722516872, 0.6663654972409019, 0.8362708750183622, 0.6140992093526759, 0.6916718168870373, 0.668370960438877, 0.883149258621328, 0.790604175283202]}, {\"categories\": [\"0\", \"1\", \"2\", \"3\", \"4\", \"5\", \"6\", \"7\", \"8\", \"9\", \"10\", \"11\", \"12\", \"13\", \"14\", \"15\", \"16\", \"17\", \"18\", \"19\", \"20\", \"21\", \"22\", \"23\", \"24\", \"25\", \"26\", \"27\", \"28\", \"29\", \"30\"], \"mode\": \"lines\", \"name\": \"matthews_correlation_max\", \"stepped\": true, \"type\": \"scatter\", \"data\": [0.8221177980879764, 0.8221177980879764, 0.8221177980879764, 0.8221177980879764, 0.8221177980879764, 0.8221177980879764, 0.8221177980879764, 0.8221177980879764, 0.8221177980879764, 0.8221177980879764, 0.8221177980879764, 0.8221177980879764, 0.8221177980879764, 0.8221177980879764, 0.8221177980879764, 0.8474290962042126, 0.8474290962042126, 0.8474290962042126, 0.8474290962042126, 0.8474290962042126, 0.8474290962042126, 0.8474290962042126, 0.8474290962042126, 0.8474290962042126, 0.8474290962042126, 0.8474290962042126, 0.8474290962042126, 0.8474290962042126, 0.8474290962042126, 0.883149258621328, 0.883149258621328]}], \"recall_score_macro\": [{\"categories\": [\"0\", \"1\", \"2\", \"3\", \"4\", \"5\", \"6\", \"7\", \"8\", \"9\", \"10\", \"11\", \"12\", \"13\", \"14\", \"15\", \"16\", \"17\", \"18\", \"19\", \"20\", \"21\", \"22\", \"23\", \"24\", \"25\", \"26\", \"27\", \"28\", \"29\", \"30\"], \"mode\": \"markers\", \"name\": \"recall_score_macro\", \"stepped\": false, \"type\": \"scatter\", \"data\": [0.8920290616246499, 0.8282492997198879, 0.7807545518207283, 0.7832738095238094, 0.7349457282913164, 0.7386362044817927, 0.7965038515406162, 0.7095833333333332, 0.7388795518207282, 0.8915826330532213, 0.8340826330532213, 0.7974264705882353, 0.7575647759103641, 0.7283088235294117, 0.8727731092436976, 0.9134873949579833, 0.6390476190476191, 0.7371533613445378, 0.7843207282913165, 0.8061957282913165, 0.7875052521008403, 0.8138497899159663, 0.8303326330532214, 0.7316421568627451, 0.8042559523809525, 0.9529814425770308, 0.7487499999999999, 0.8161309523809525, 0.7996428571428571, 0.9301540616246499, 0.8768207282913163]}, {\"categories\": [\"0\", \"1\", \"2\", \"3\", \"4\", \"5\", \"6\", \"7\", \"8\", \"9\", \"10\", \"11\", \"12\", \"13\", \"14\", \"15\", \"16\", \"17\", \"18\", \"19\", \"20\", \"21\", \"22\", \"23\", \"24\", \"25\", \"26\", \"27\", \"28\", \"29\", \"30\"], \"mode\": \"lines\", \"name\": \"recall_score_macro_max\", \"stepped\": true, \"type\": \"scatter\", \"data\": [0.8920290616246499, 0.8920290616246499, 0.8920290616246499, 0.8920290616246499, 0.8920290616246499, 0.8920290616246499, 0.8920290616246499, 0.8920290616246499, 0.8920290616246499, 0.8920290616246499, 0.8920290616246499, 0.8920290616246499, 0.8920290616246499, 0.8920290616246499, 0.8920290616246499, 0.9134873949579833, 0.9134873949579833, 0.9134873949579833, 0.9134873949579833, 0.9134873949579833, 0.9134873949579833, 0.9134873949579833, 0.9134873949579833, 0.9134873949579833, 0.9134873949579833, 0.9529814425770308, 0.9529814425770308, 0.9529814425770308, 0.9529814425770308, 0.9529814425770308, 0.9529814425770308]}], \"norm_macro_recall\": [{\"categories\": [\"0\", \"1\", \"2\", \"3\", \"4\", \"5\", \"6\", \"7\", \"8\", \"9\", \"10\", \"11\", \"12\", \"13\", \"14\", \"15\", \"16\", \"17\", \"18\", \"19\", \"20\", \"21\", \"22\", \"23\", \"24\", \"25\", \"26\", \"27\", \"28\", \"29\", \"30\"], \"mode\": \"markers\", \"name\": \"norm_macro_recall\", \"stepped\": false, \"type\": \"scatter\", \"data\": [0.7840581232492998, 0.6564985994397758, 0.5631757703081233, 0.566547619047619, 0.4832247899159663, 0.47727240896358525, 0.5930077030812325, 0.41916666666666663, 0.49109243697478977, 0.7831652661064427, 0.6681652661064426, 0.5948529411764706, 0.5151295518207283, 0.4566176470588236, 0.7455462184873948, 0.8269747899159663, 0.2905952380952381, 0.4743067226890755, 0.568641456582633, 0.612391456582633, 0.5750105042016808, 0.6276995798319327, 0.6606652661064427, 0.46328431372549017, 0.6085119047619048, 0.9059628851540615, 0.49749999999999994, 0.6322619047619048, 0.5992857142857142, 0.8603081232492997, 0.753641456582633]}, {\"categories\": [\"0\", \"1\", \"2\", \"3\", \"4\", \"5\", \"6\", \"7\", \"8\", \"9\", \"10\", \"11\", \"12\", \"13\", \"14\", \"15\", \"16\", \"17\", \"18\", \"19\", \"20\", \"21\", \"22\", \"23\", \"24\", \"25\", \"26\", \"27\", \"28\", \"29\", \"30\"], \"mode\": \"lines\", \"name\": \"norm_macro_recall_max\", \"stepped\": true, \"type\": \"scatter\", \"data\": [0.7840581232492998, 0.7840581232492998, 0.7840581232492998, 0.7840581232492998, 0.7840581232492998, 0.7840581232492998, 0.7840581232492998, 0.7840581232492998, 0.7840581232492998, 0.7840581232492998, 0.7840581232492998, 0.7840581232492998, 0.7840581232492998, 0.7840581232492998, 0.7840581232492998, 0.8269747899159663, 0.8269747899159663, 0.8269747899159663, 0.8269747899159663, 0.8269747899159663, 0.8269747899159663, 0.8269747899159663, 0.8269747899159663, 0.8269747899159663, 0.8269747899159663, 0.9059628851540615, 0.9059628851540615, 0.9059628851540615, 0.9059628851540615, 0.9059628851540615, 0.9059628851540615]}], \"precision_score_micro\": [{\"categories\": [\"0\", \"1\", \"2\", \"3\", \"4\", \"5\", \"6\", \"7\", \"8\", \"9\", \"10\", \"11\", \"12\", \"13\", \"14\", \"15\", \"16\", \"17\", \"18\", \"19\", \"20\", \"21\", \"22\", \"23\", \"24\", \"25\", \"26\", \"27\", \"28\", \"29\", \"30\"], \"mode\": \"markers\", \"name\": \"precision_score_micro\", \"stepped\": false, \"type\": \"scatter\", \"data\": [0.9384210526315788, 0.9073684210526316, 0.7894736842105263, 0.8968421052631579, 0.8400000000000001, 0.8560526315789474, 0.8100000000000002, 0.861578947368421, 0.8402631578947368, 0.9334210526315789, 0.9026315789473685, 0.7897368421052631, 0.8507894736842104, 0.8663157894736843, 0.9128947368421052, 0.9436842105263157, 0.7994736842105262, 0.8455263157894738, 0.8868421052631581, 0.891842105263158, 0.8505263157894737, 0.881842105263158, 0.9026315789473685, 0.8618421052631579, 0.8768421052631579, 0.9281578947368422, 0.8771052631578948, 0.891842105263158, 0.8768421052631579, 0.9542105263157895, 0.9228947368421053]}, {\"categories\": [\"0\", \"1\", \"2\", \"3\", \"4\", \"5\", \"6\", \"7\", \"8\", \"9\", \"10\", \"11\", \"12\", \"13\", \"14\", \"15\", \"16\", \"17\", \"18\", \"19\", \"20\", \"21\", \"22\", \"23\", \"24\", \"25\", \"26\", \"27\", \"28\", \"29\", \"30\"], \"mode\": \"lines\", \"name\": \"precision_score_micro_max\", \"stepped\": true, \"type\": \"scatter\", \"data\": [0.9384210526315788, 0.9384210526315788, 0.9384210526315788, 0.9384210526315788, 0.9384210526315788, 0.9384210526315788, 0.9384210526315788, 0.9384210526315788, 0.9384210526315788, 0.9384210526315788, 0.9384210526315788, 0.9384210526315788, 0.9384210526315788, 0.9384210526315788, 0.9384210526315788, 0.9436842105263157, 0.9436842105263157, 0.9436842105263157, 0.9436842105263157, 0.9436842105263157, 0.9436842105263157, 0.9436842105263157, 0.9436842105263157, 0.9436842105263157, 0.9436842105263157, 0.9436842105263157, 0.9436842105263157, 0.9436842105263157, 0.9436842105263157, 0.9542105263157895, 0.9542105263157895]}], \"AUC_weighted\": [{\"categories\": [\"0\", \"1\", \"2\", \"3\", \"4\", \"5\", \"6\", \"7\", \"8\", \"9\", \"10\", \"11\", \"12\", \"13\", \"14\", \"15\", \"16\", \"17\", \"18\", \"19\", \"20\", \"21\", \"22\", \"23\", \"24\", \"25\", \"26\", \"27\", \"28\", \"29\", \"30\"], \"mode\": \"markers\", \"name\": \"AUC_weighted\", \"stepped\": false, \"type\": \"scatter\", \"data\": [0.9739355742296919, 0.9645780812324929, 0.8892759103641457, 0.9142738095238097, 0.9128879551820729, 0.9146960784313727, 0.9028865546218489, 0.9304068627450979, 0.9036141456582634, 0.9699142156862746, 0.9316915266106444, 0.8754733893557424, 0.8925794817927171, 0.9308855042016806, 0.9660833333333333, 0.9809677871148461, 0.7757619047619048, 0.8787447478991597, 0.9161995798319327, 0.9456841736694679, 0.8970878851540617, 0.9065280112044819, 0.9462450980392157, 0.9410596988795519, 0.9311778711484594, 0.9737731092436974, 0.9322843137254901, 0.9350735294117648, 0.9354152661064425, 0.9774201680672269, 0.9852773109243698]}, {\"categories\": [\"0\", \"1\", \"2\", \"3\", \"4\", \"5\", \"6\", \"7\", \"8\", \"9\", \"10\", \"11\", \"12\", \"13\", \"14\", \"15\", \"16\", \"17\", \"18\", \"19\", \"20\", \"21\", \"22\", \"23\", \"24\", \"25\", \"26\", \"27\", \"28\", \"29\", \"30\"], \"mode\": \"lines\", \"name\": \"AUC_weighted_max\", \"stepped\": true, \"type\": \"scatter\", \"data\": [0.9739355742296919, 0.9739355742296919, 0.9739355742296919, 0.9739355742296919, 0.9739355742296919, 0.9739355742296919, 0.9739355742296919, 0.9739355742296919, 0.9739355742296919, 0.9739355742296919, 0.9739355742296919, 0.9739355742296919, 0.9739355742296919, 0.9739355742296919, 0.9739355742296919, 0.9809677871148461, 0.9809677871148461, 0.9809677871148461, 0.9809677871148461, 0.9809677871148461, 0.9809677871148461, 0.9809677871148461, 0.9809677871148461, 0.9809677871148461, 0.9809677871148461, 0.9809677871148461, 0.9809677871148461, 0.9809677871148461, 0.9809677871148461, 0.9809677871148461, 0.9852773109243698]}], \"recall_score_micro\": [{\"categories\": [\"0\", \"1\", \"2\", \"3\", \"4\", \"5\", \"6\", \"7\", \"8\", \"9\", \"10\", \"11\", \"12\", \"13\", \"14\", \"15\", \"16\", \"17\", \"18\", \"19\", \"20\", \"21\", \"22\", \"23\", \"24\", \"25\", \"26\", \"27\", \"28\", \"29\", \"30\"], \"mode\": \"markers\", \"name\": \"recall_score_micro\", \"stepped\": false, \"type\": \"scatter\", \"data\": [0.9384210526315788, 0.9073684210526316, 0.7894736842105263, 0.8968421052631579, 0.8400000000000001, 0.8560526315789474, 0.8100000000000002, 0.861578947368421, 0.8402631578947368, 0.9334210526315789, 0.9026315789473685, 0.7897368421052631, 0.8507894736842104, 0.8663157894736843, 0.9128947368421052, 0.9436842105263157, 0.7994736842105262, 0.8455263157894738, 0.8868421052631581, 0.891842105263158, 0.8505263157894737, 0.881842105263158, 0.9026315789473685, 0.8618421052631579, 0.8768421052631579, 0.9281578947368422, 0.8771052631578948, 0.891842105263158, 0.8768421052631579, 0.9542105263157895, 0.9228947368421053]}, {\"categories\": [\"0\", \"1\", \"2\", \"3\", \"4\", \"5\", \"6\", \"7\", \"8\", \"9\", \"10\", \"11\", \"12\", \"13\", \"14\", \"15\", \"16\", \"17\", \"18\", \"19\", \"20\", \"21\", \"22\", \"23\", \"24\", \"25\", \"26\", \"27\", \"28\", \"29\", \"30\"], \"mode\": \"lines\", \"name\": \"recall_score_micro_max\", \"stepped\": true, \"type\": \"scatter\", \"data\": [0.9384210526315788, 0.9384210526315788, 0.9384210526315788, 0.9384210526315788, 0.9384210526315788, 0.9384210526315788, 0.9384210526315788, 0.9384210526315788, 0.9384210526315788, 0.9384210526315788, 0.9384210526315788, 0.9384210526315788, 0.9384210526315788, 0.9384210526315788, 0.9384210526315788, 0.9436842105263157, 0.9436842105263157, 0.9436842105263157, 0.9436842105263157, 0.9436842105263157, 0.9436842105263157, 0.9436842105263157, 0.9436842105263157, 0.9436842105263157, 0.9436842105263157, 0.9436842105263157, 0.9436842105263157, 0.9436842105263157, 0.9436842105263157, 0.9542105263157895, 0.9542105263157895]}], \"f1_score_micro\": [{\"categories\": [\"0\", \"1\", \"2\", \"3\", \"4\", \"5\", \"6\", \"7\", \"8\", \"9\", \"10\", \"11\", \"12\", \"13\", \"14\", \"15\", \"16\", \"17\", \"18\", \"19\", \"20\", \"21\", \"22\", \"23\", \"24\", \"25\", \"26\", \"27\", \"28\", \"29\", \"30\"], \"mode\": \"markers\", \"name\": \"f1_score_micro\", \"stepped\": false, \"type\": \"scatter\", \"data\": [0.938421052631579, 0.9073684210526316, 0.7894736842105263, 0.8968421052631579, 0.8400000000000001, 0.8560526315789474, 0.8100000000000002, 0.861578947368421, 0.8402631578947368, 0.9334210526315789, 0.9026315789473685, 0.7897368421052632, 0.8507894736842105, 0.8663157894736843, 0.9128947368421052, 0.9436842105263159, 0.7994736842105262, 0.8455263157894738, 0.8868421052631581, 0.891842105263158, 0.8505263157894737, 0.881842105263158, 0.9026315789473685, 0.8618421052631579, 0.8768421052631579, 0.9281578947368423, 0.8771052631578948, 0.891842105263158, 0.8768421052631579, 0.9542105263157895, 0.9228947368421053]}, {\"categories\": [\"0\", \"1\", \"2\", \"3\", \"4\", \"5\", \"6\", \"7\", \"8\", \"9\", \"10\", \"11\", \"12\", \"13\", \"14\", \"15\", \"16\", \"17\", \"18\", \"19\", \"20\", \"21\", \"22\", \"23\", \"24\", \"25\", \"26\", \"27\", \"28\", \"29\", \"30\"], \"mode\": \"lines\", \"name\": \"f1_score_micro_max\", \"stepped\": true, \"type\": \"scatter\", \"data\": [0.938421052631579, 0.938421052631579, 0.938421052631579, 0.938421052631579, 0.938421052631579, 0.938421052631579, 0.938421052631579, 0.938421052631579, 0.938421052631579, 0.938421052631579, 0.938421052631579, 0.938421052631579, 0.938421052631579, 0.938421052631579, 0.938421052631579, 0.9436842105263159, 0.9436842105263159, 0.9436842105263159, 0.9436842105263159, 0.9436842105263159, 0.9436842105263159, 0.9436842105263159, 0.9436842105263159, 0.9436842105263159, 0.9436842105263159, 0.9436842105263159, 0.9436842105263159, 0.9436842105263159, 0.9436842105263159, 0.9542105263157895, 0.9542105263157895]}], \"f1_score_macro\": [{\"categories\": [\"0\", \"1\", \"2\", \"3\", \"4\", \"5\", \"6\", \"7\", \"8\", \"9\", \"10\", \"11\", \"12\", \"13\", \"14\", \"15\", \"16\", \"17\", \"18\", \"19\", \"20\", \"21\", \"22\", \"23\", \"24\", \"25\", \"26\", \"27\", \"28\", \"29\", \"30\"], \"mode\": \"markers\", \"name\": \"f1_score_macro\", \"stepped\": false, \"type\": \"scatter\", \"data\": [0.9025319051947905, 0.8472812840139691, 0.7394012003322349, 0.8008843243419079, 0.7344432363613398, 0.7489578068989833, 0.7593255266239137, 0.7358454605430411, 0.7365152481309323, 0.9043043993520297, 0.8539458459691318, 0.7444280263159572, 0.7496535582802186, 0.7471409771615474, 0.8734278789228733, 0.9170694471556541, 0.6491344541661479, 0.7326926033854402, 0.8082604166249802, 0.8234736672857462, 0.7827278299648254, 0.8216392105314224, 0.8468326003683544, 0.7542545867320535, 0.8188044590759812, 0.9070154612888981, 0.7787672201559772, 0.8347986314285916, 0.8132429372644594, 0.9367119566733801, 0.8844131301754435]}, {\"categories\": [\"0\", \"1\", \"2\", \"3\", \"4\", \"5\", \"6\", \"7\", \"8\", \"9\", \"10\", \"11\", \"12\", \"13\", \"14\", \"15\", \"16\", \"17\", \"18\", \"19\", \"20\", \"21\", \"22\", \"23\", \"24\", \"25\", \"26\", \"27\", \"28\", \"29\", \"30\"], \"mode\": \"lines\", \"name\": \"f1_score_macro_max\", \"stepped\": true, \"type\": \"scatter\", \"data\": [0.9025319051947905, 0.9025319051947905, 0.9025319051947905, 0.9025319051947905, 0.9025319051947905, 0.9025319051947905, 0.9025319051947905, 0.9025319051947905, 0.9025319051947905, 0.9043043993520297, 0.9043043993520297, 0.9043043993520297, 0.9043043993520297, 0.9043043993520297, 0.9043043993520297, 0.9170694471556541, 0.9170694471556541, 0.9170694471556541, 0.9170694471556541, 0.9170694471556541, 0.9170694471556541, 0.9170694471556541, 0.9170694471556541, 0.9170694471556541, 0.9170694471556541, 0.9170694471556541, 0.9170694471556541, 0.9170694471556541, 0.9170694471556541, 0.9367119566733801, 0.9367119566733801]}], \"average_precision_score_weighted\": [{\"categories\": [\"0\", \"1\", \"2\", \"3\", \"4\", \"5\", \"6\", \"7\", \"8\", \"9\", \"10\", \"11\", \"12\", \"13\", \"14\", \"15\", \"16\", \"17\", \"18\", \"19\", \"20\", \"21\", \"22\", \"23\", \"24\", \"25\", \"26\", \"27\", \"28\", \"29\", \"30\"], \"mode\": \"markers\", \"name\": \"average_precision_score_weighted\", \"stepped\": false, \"type\": \"scatter\", \"data\": [0.9819015529963672, 0.9772243592106207, 0.9205225522467864, 0.9414716552717917, 0.9312922796101567, 0.9375007350750385, 0.9237674424027078, 0.9446941914294855, 0.9294726717007759, 0.9763715620464847, 0.9502594829705897, 0.9106263027059933, 0.9249043399637135, 0.9492948170476889, 0.9710540263400171, 0.9845543392795715, 0.8655241616330912, 0.9155498214816795, 0.9416522129830953, 0.9627451823632164, 0.9245613981030104, 0.9352535038276137, 0.9622445488592932, 0.9577857326497032, 0.9545439173829268, 0.9626041270617204, 0.9484525737646562, 0.9511096487791534, 0.9499425151731653, 0.9824138693908431, 0.9881215016708437]}, {\"categories\": [\"0\", \"1\", \"2\", \"3\", \"4\", \"5\", \"6\", \"7\", \"8\", \"9\", \"10\", \"11\", \"12\", \"13\", \"14\", \"15\", \"16\", \"17\", \"18\", \"19\", \"20\", \"21\", \"22\", \"23\", \"24\", \"25\", \"26\", \"27\", \"28\", \"29\", \"30\"], \"mode\": \"lines\", \"name\": \"average_precision_score_weighted_max\", \"stepped\": true, \"type\": \"scatter\", \"data\": [0.9819015529963672, 0.9819015529963672, 0.9819015529963672, 0.9819015529963672, 0.9819015529963672, 0.9819015529963672, 0.9819015529963672, 0.9819015529963672, 0.9819015529963672, 0.9819015529963672, 0.9819015529963672, 0.9819015529963672, 0.9819015529963672, 0.9819015529963672, 0.9819015529963672, 0.9845543392795715, 0.9845543392795715, 0.9845543392795715, 0.9845543392795715, 0.9845543392795715, 0.9845543392795715, 0.9845543392795715, 0.9845543392795715, 0.9845543392795715, 0.9845543392795715, 0.9845543392795715, 0.9845543392795715, 0.9845543392795715, 0.9845543392795715, 0.9845543392795715, 0.9881215016708437]}], \"recall_score_weighted\": [{\"categories\": [\"0\", \"1\", \"2\", \"3\", \"4\", \"5\", \"6\", \"7\", \"8\", \"9\", \"10\", \"11\", \"12\", \"13\", \"14\", \"15\", \"16\", \"17\", \"18\", \"19\", \"20\", \"21\", \"22\", \"23\", \"24\", \"25\", \"26\", \"27\", \"28\", \"29\", \"30\"], \"mode\": \"markers\", \"name\": \"recall_score_weighted\", \"stepped\": false, \"type\": \"scatter\", \"data\": [0.9384210526315788, 0.9073684210526316, 0.7894736842105263, 0.8968421052631579, 0.8400000000000001, 0.8560526315789474, 0.8100000000000002, 0.861578947368421, 0.8402631578947368, 0.9334210526315789, 0.9026315789473685, 0.7897368421052631, 0.8507894736842104, 0.8663157894736843, 0.9128947368421052, 0.9436842105263157, 0.7994736842105262, 0.8455263157894738, 0.8868421052631581, 0.891842105263158, 0.8505263157894737, 0.881842105263158, 0.9026315789473685, 0.8618421052631579, 0.8768421052631579, 0.9281578947368422, 0.8771052631578948, 0.891842105263158, 0.8768421052631579, 0.9542105263157895, 0.9228947368421053]}, {\"categories\": [\"0\", \"1\", \"2\", \"3\", \"4\", \"5\", \"6\", \"7\", \"8\", \"9\", \"10\", \"11\", \"12\", \"13\", \"14\", \"15\", \"16\", \"17\", \"18\", \"19\", \"20\", \"21\", \"22\", \"23\", \"24\", \"25\", \"26\", \"27\", \"28\", \"29\", \"30\"], \"mode\": \"lines\", \"name\": \"recall_score_weighted_max\", \"stepped\": true, \"type\": \"scatter\", \"data\": [0.9384210526315788, 0.9384210526315788, 0.9384210526315788, 0.9384210526315788, 0.9384210526315788, 0.9384210526315788, 0.9384210526315788, 0.9384210526315788, 0.9384210526315788, 0.9384210526315788, 0.9384210526315788, 0.9384210526315788, 0.9384210526315788, 0.9384210526315788, 0.9384210526315788, 0.9436842105263157, 0.9436842105263157, 0.9436842105263157, 0.9436842105263157, 0.9436842105263157, 0.9436842105263157, 0.9436842105263157, 0.9436842105263157, 0.9436842105263157, 0.9436842105263157, 0.9436842105263157, 0.9436842105263157, 0.9436842105263157, 0.9436842105263157, 0.9542105263157895, 0.9542105263157895]}], \"log_loss\": [{\"categories\": [\"0\", \"1\", \"2\", \"3\", \"4\", \"5\", \"6\", \"7\", \"8\", \"9\", \"10\", \"11\", \"12\", \"13\", \"14\", \"15\", \"16\", \"17\", \"18\", \"19\", \"20\", \"21\", \"22\", \"23\", \"24\", \"25\", \"26\", \"27\", \"28\", \"29\", \"30\"], \"mode\": \"markers\", \"name\": \"log_loss\", \"stepped\": false, \"type\": \"scatter\", \"data\": [0.2182837291360935, 0.229696734726135, 0.3940226101427968, 0.6418475837899826, 0.6184513964047825, 0.3364189805607653, 0.43814587203029376, 0.37841515598698283, 0.30262773336414495, 0.1883219975503027, 0.2776667947322538, 0.4204045273977247, 0.33800815607306506, 0.3118012973684781, 0.32276691760849274, 0.15771532985979933, 0.9262072843660182, 0.34435738636054447, 0.30192578612471377, 0.26625145542222695, 0.34413112599922996, 0.3246874099687672, 0.2525876406661053, 0.36511760607652266, 0.2712036619489465, 0.7927099203455625, 0.3513752471772616, 0.28520994910099484, 0.2777070057573625, 0.20839125604079003, 0.1612257011111468]}, {\"categories\": [\"0\", \"1\", \"2\", \"3\", \"4\", \"5\", \"6\", \"7\", \"8\", \"9\", \"10\", \"11\", \"12\", \"13\", \"14\", \"15\", \"16\", \"17\", \"18\", \"19\", \"20\", \"21\", \"22\", \"23\", \"24\", \"25\", \"26\", \"27\", \"28\", \"29\", \"30\"], \"mode\": \"lines\", \"name\": \"log_loss_min\", \"stepped\": true, \"type\": \"scatter\", \"data\": [0.2182837291360935, 0.2182837291360935, 0.2182837291360935, 0.2182837291360935, 0.2182837291360935, 0.2182837291360935, 0.2182837291360935, 0.2182837291360935, 0.2182837291360935, 0.1883219975503027, 0.1883219975503027, 0.1883219975503027, 0.1883219975503027, 0.1883219975503027, 0.1883219975503027, 0.15771532985979933, 0.15771532985979933, 0.15771532985979933, 0.15771532985979933, 0.15771532985979933, 0.15771532985979933, 0.15771532985979933, 0.15771532985979933, 0.15771532985979933, 0.15771532985979933, 0.15771532985979933, 0.15771532985979933, 0.15771532985979933, 0.15771532985979933, 0.15771532985979933, 0.15771532985979933]}], \"AUC_macro\": [{\"categories\": [\"0\", \"1\", \"2\", \"3\", \"4\", \"5\", \"6\", \"7\", \"8\", \"9\", \"10\", \"11\", \"12\", \"13\", \"14\", \"15\", \"16\", \"17\", \"18\", \"19\", \"20\", \"21\", \"22\", \"23\", \"24\", \"25\", \"26\", \"27\", \"28\", \"29\", \"30\"], \"mode\": \"markers\", \"name\": \"AUC_macro\", \"stepped\": false, \"type\": \"scatter\", \"data\": [0.9739355742296919, 0.9645780812324929, 0.8892759103641457, 0.9142738095238097, 0.9128879551820729, 0.9146960784313725, 0.9028865546218489, 0.9304068627450979, 0.9036141456582634, 0.9699142156862746, 0.9316915266106444, 0.8754733893557421, 0.8925794817927171, 0.9308855042016807, 0.9660833333333333, 0.9809677871148461, 0.7757619047619048, 0.8787447478991597, 0.9161995798319327, 0.9456841736694679, 0.8970878851540617, 0.9065280112044819, 0.9462450980392157, 0.9410596988795519, 0.9311778711484594, 0.9737731092436974, 0.9322843137254901, 0.9350735294117648, 0.9354152661064425, 0.9774201680672269, 0.9852773109243698]}, {\"categories\": [\"0\", \"1\", \"2\", \"3\", \"4\", \"5\", \"6\", \"7\", \"8\", \"9\", \"10\", \"11\", \"12\", \"13\", \"14\", \"15\", \"16\", \"17\", \"18\", \"19\", \"20\", \"21\", \"22\", \"23\", \"24\", \"25\", \"26\", \"27\", \"28\", \"29\", \"30\"], \"mode\": \"lines\", \"name\": \"AUC_macro_max\", \"stepped\": true, \"type\": \"scatter\", \"data\": [0.9739355742296919, 0.9739355742296919, 0.9739355742296919, 0.9739355742296919, 0.9739355742296919, 0.9739355742296919, 0.9739355742296919, 0.9739355742296919, 0.9739355742296919, 0.9739355742296919, 0.9739355742296919, 0.9739355742296919, 0.9739355742296919, 0.9739355742296919, 0.9739355742296919, 0.9809677871148461, 0.9809677871148461, 0.9809677871148461, 0.9809677871148461, 0.9809677871148461, 0.9809677871148461, 0.9809677871148461, 0.9809677871148461, 0.9809677871148461, 0.9809677871148461, 0.9809677871148461, 0.9809677871148461, 0.9809677871148461, 0.9809677871148461, 0.9809677871148461, 0.9852773109243698]}], \"average_precision_score_macro\": [{\"categories\": [\"0\", \"1\", \"2\", \"3\", \"4\", \"5\", \"6\", \"7\", \"8\", \"9\", \"10\", \"11\", \"12\", \"13\", \"14\", \"15\", \"16\", \"17\", \"18\", \"19\", \"20\", \"21\", \"22\", \"23\", \"24\", \"25\", \"26\", \"27\", \"28\", \"29\", \"30\"], \"mode\": \"markers\", \"name\": \"average_precision_score_macro\", \"stepped\": false, \"type\": \"scatter\", \"data\": [0.9680903552220285, 0.9611717041077366, 0.8716512792344732, 0.9195255456951369, 0.8856184326041483, 0.8973534955813548, 0.8782574407550255, 0.9203471407450955, 0.8785627614531377, 0.9622720479800311, 0.9257041225821194, 0.8568306519159468, 0.8795004363164065, 0.9186694765067834, 0.9544533770457484, 0.9715395147642389, 0.8050313549144509, 0.8594474904248545, 0.909452440382433, 0.9422864756938185, 0.8845920340231496, 0.8998286500033549, 0.9397024125230958, 0.9332732892153917, 0.9277626530455869, 0.9331430168558651, 0.9182676277381997, 0.9242777611284471, 0.9205076914844277, 0.9726701269085722, 0.9804176670668265]}, {\"categories\": [\"0\", \"1\", \"2\", \"3\", \"4\", \"5\", \"6\", \"7\", \"8\", \"9\", \"10\", \"11\", \"12\", \"13\", \"14\", \"15\", \"16\", \"17\", \"18\", \"19\", \"20\", \"21\", \"22\", \"23\", \"24\", \"25\", \"26\", \"27\", \"28\", \"29\", \"30\"], \"mode\": \"lines\", \"name\": \"average_precision_score_macro_max\", \"stepped\": true, \"type\": \"scatter\", \"data\": [0.9680903552220285, 0.9680903552220285, 0.9680903552220285, 0.9680903552220285, 0.9680903552220285, 0.9680903552220285, 0.9680903552220285, 0.9680903552220285, 0.9680903552220285, 0.9680903552220285, 0.9680903552220285, 0.9680903552220285, 0.9680903552220285, 0.9680903552220285, 0.9680903552220285, 0.9715395147642389, 0.9715395147642389, 0.9715395147642389, 0.9715395147642389, 0.9715395147642389, 0.9715395147642389, 0.9715395147642389, 0.9715395147642389, 0.9715395147642389, 0.9715395147642389, 0.9715395147642389, 0.9715395147642389, 0.9715395147642389, 0.9715395147642389, 0.9726701269085722, 0.9804176670668265]}], \"average_precision_score_micro\": [{\"categories\": [\"0\", \"1\", \"2\", \"3\", \"4\", \"5\", \"6\", \"7\", \"8\", \"9\", \"10\", \"11\", \"12\", \"13\", \"14\", \"15\", \"16\", \"17\", \"18\", \"19\", \"20\", \"21\", \"22\", \"23\", \"24\", \"25\", \"26\", \"27\", \"28\", \"29\", \"30\"], \"mode\": \"markers\", \"name\": \"average_precision_score_micro\", \"stepped\": false, \"type\": \"scatter\", \"data\": [0.9812667453978886, 0.9743775038328929, 0.9139969807868413, 0.9406116324057461, 0.9358163056797197, 0.9381382084895937, 0.9134462584624321, 0.9294601786870406, 0.9406349131563345, 0.9773180665185588, 0.9565994789627743, 0.8887636181542117, 0.9302836046292334, 0.9502723717003114, 0.9769374262837482, 0.9867174473882997, 0.8742860554484168, 0.9309902629129765, 0.9492184796280434, 0.9582105274281357, 0.9299695915376145, 0.9425254049767423, 0.9637446147330149, 0.9405552734080228, 0.9547045226839824, 0.9490517715073846, 0.9440455573670075, 0.9562150437461675, 0.9549819330033389, 0.98582416382135, 0.9857998619485613]}, {\"categories\": [\"0\", \"1\", \"2\", \"3\", \"4\", \"5\", \"6\", \"7\", \"8\", \"9\", \"10\", \"11\", \"12\", \"13\", \"14\", \"15\", \"16\", \"17\", \"18\", \"19\", \"20\", \"21\", \"22\", \"23\", \"24\", \"25\", \"26\", \"27\", \"28\", \"29\", \"30\"], \"mode\": \"lines\", \"name\": \"average_precision_score_micro_max\", \"stepped\": true, \"type\": \"scatter\", \"data\": [0.9812667453978886, 0.9812667453978886, 0.9812667453978886, 0.9812667453978886, 0.9812667453978886, 0.9812667453978886, 0.9812667453978886, 0.9812667453978886, 0.9812667453978886, 0.9812667453978886, 0.9812667453978886, 0.9812667453978886, 0.9812667453978886, 0.9812667453978886, 0.9812667453978886, 0.9867174473882997, 0.9867174473882997, 0.9867174473882997, 0.9867174473882997, 0.9867174473882997, 0.9867174473882997, 0.9867174473882997, 0.9867174473882997, 0.9867174473882997, 0.9867174473882997, 0.9867174473882997, 0.9867174473882997, 0.9867174473882997, 0.9867174473882997, 0.9867174473882997, 0.9867174473882997]}], \"accuracy\": [{\"categories\": [\"0\", \"1\", \"2\", \"3\", \"4\", \"5\", \"6\", \"7\", \"8\", \"9\", \"10\", \"11\", \"12\", \"13\", \"14\", \"15\", \"16\", \"17\", \"18\", \"19\", \"20\", \"21\", \"22\", \"23\", \"24\", \"25\", \"26\", \"27\", \"28\", \"29\", \"30\"], \"mode\": \"markers\", \"name\": \"accuracy\", \"stepped\": false, \"type\": \"scatter\", \"data\": [0.9384210526315788, 0.9073684210526316, 0.7894736842105263, 0.8968421052631579, 0.8400000000000001, 0.8560526315789474, 0.8100000000000002, 0.861578947368421, 0.8402631578947368, 0.9334210526315789, 0.9026315789473685, 0.7897368421052631, 0.8507894736842104, 0.8663157894736843, 0.9128947368421052, 0.9436842105263157, 0.7994736842105262, 0.8455263157894738, 0.8868421052631581, 0.891842105263158, 0.8505263157894737, 0.881842105263158, 0.9026315789473685, 0.8618421052631579, 0.8768421052631579, 0.9281578947368422, 0.8771052631578948, 0.891842105263158, 0.8768421052631579, 0.9542105263157895, 0.9228947368421053]}, {\"categories\": [\"0\", \"1\", \"2\", \"3\", \"4\", \"5\", \"6\", \"7\", \"8\", \"9\", \"10\", \"11\", \"12\", \"13\", \"14\", \"15\", \"16\", \"17\", \"18\", \"19\", \"20\", \"21\", \"22\", \"23\", \"24\", \"25\", \"26\", \"27\", \"28\", \"29\", \"30\"], \"mode\": \"lines\", \"name\": \"accuracy_max\", \"stepped\": true, \"type\": \"scatter\", \"data\": [0.9384210526315788, 0.9384210526315788, 0.9384210526315788, 0.9384210526315788, 0.9384210526315788, 0.9384210526315788, 0.9384210526315788, 0.9384210526315788, 0.9384210526315788, 0.9384210526315788, 0.9384210526315788, 0.9384210526315788, 0.9384210526315788, 0.9384210526315788, 0.9384210526315788, 0.9436842105263157, 0.9436842105263157, 0.9436842105263157, 0.9436842105263157, 0.9436842105263157, 0.9436842105263157, 0.9436842105263157, 0.9436842105263157, 0.9436842105263157, 0.9436842105263157, 0.9436842105263157, 0.9436842105263157, 0.9436842105263157, 0.9436842105263157, 0.9542105263157895, 0.9542105263157895]}], \"weighted_accuracy\": [{\"categories\": [\"0\", \"1\", \"2\", \"3\", \"4\", \"5\", \"6\", \"7\", \"8\", \"9\", \"10\", \"11\", \"12\", \"13\", \"14\", \"15\", \"16\", \"17\", \"18\", \"19\", \"20\", \"21\", \"22\", \"23\", \"24\", \"25\", \"26\", \"27\", \"28\", \"29\", \"30\"], \"mode\": \"markers\", \"name\": \"weighted_accuracy\", \"stepped\": false, \"type\": \"scatter\", \"data\": [0.9639371258118151, 0.9459366430002027, 0.7921636329118571, 0.9524212282984512, 0.9006596410449486, 0.9159958486054295, 0.8206730202199051, 0.9380794278618956, 0.8991465250612741, 0.9568189693411723, 0.9387522884516171, 0.7843778763111023, 0.8990948926973168, 0.9393958874658763, 0.9360162392591882, 0.9609449332832168, 0.8799656484387611, 0.9041205503132679, 0.9382980922593521, 0.9359786387785451, 0.8853482332665088, 0.9186778215374998, 0.9406363577291954, 0.929796105908691, 0.9154320450968612, 0.9157513281843432, 0.9435324781034131, 0.93140892901894, 0.9163617540465043, 0.9691345367772953, 0.9489910645988135]}, {\"categories\": [\"0\", \"1\", \"2\", \"3\", \"4\", \"5\", \"6\", \"7\", \"8\", \"9\", \"10\", \"11\", \"12\", \"13\", \"14\", \"15\", \"16\", \"17\", \"18\", \"19\", \"20\", \"21\", \"22\", \"23\", \"24\", \"25\", \"26\", \"27\", \"28\", \"29\", \"30\"], \"mode\": \"lines\", \"name\": \"weighted_accuracy_max\", \"stepped\": true, \"type\": \"scatter\", \"data\": [0.9639371258118151, 0.9639371258118151, 0.9639371258118151, 0.9639371258118151, 0.9639371258118151, 0.9639371258118151, 0.9639371258118151, 0.9639371258118151, 0.9639371258118151, 0.9639371258118151, 0.9639371258118151, 0.9639371258118151, 0.9639371258118151, 0.9639371258118151, 0.9639371258118151, 0.9639371258118151, 0.9639371258118151, 0.9639371258118151, 0.9639371258118151, 0.9639371258118151, 0.9639371258118151, 0.9639371258118151, 0.9639371258118151, 0.9639371258118151, 0.9639371258118151, 0.9639371258118151, 0.9639371258118151, 0.9639371258118151, 0.9639371258118151, 0.9691345367772953, 0.9691345367772953]}], \"precision_score_macro\": [{\"categories\": [\"0\", \"1\", \"2\", \"3\", \"4\", \"5\", \"6\", \"7\", \"8\", \"9\", \"10\", \"11\", \"12\", \"13\", \"14\", \"15\", \"16\", \"17\", \"18\", \"19\", \"20\", \"21\", \"22\", \"23\", \"24\", \"25\", \"26\", \"27\", \"28\", \"29\", \"30\"], \"mode\": \"markers\", \"name\": \"precision_score_macro\", \"stepped\": false, \"type\": \"scatter\", \"data\": [0.9359086134453782, 0.9190937208216621, 0.7353796897546897, 0.8801863846078242, 0.8091590802987861, 0.8048465833701902, 0.761668956043956, 0.8656294535358002, 0.81078022875817, 0.9329318394024277, 0.9062272408963585, 0.736728687978688, 0.7814906256024677, 0.8527743378052974, 0.8968662464985995, 0.9382492997198879, 0.7133935328517371, 0.7723334306732139, 0.9087272408963585, 0.8974077964519142, 0.8187644096099979, 0.8728144363806128, 0.9166759506833037, 0.8388946064255661, 0.8758402300314065, 0.8881349206349206, 0.8732511425622882, 0.8830012307953485, 0.88964450174009, 0.9556349206349207, 0.9213702147525676]}, {\"categories\": [\"0\", \"1\", \"2\", \"3\", \"4\", \"5\", \"6\", \"7\", \"8\", \"9\", \"10\", \"11\", \"12\", \"13\", \"14\", \"15\", \"16\", \"17\", \"18\", \"19\", \"20\", \"21\", \"22\", \"23\", \"24\", \"25\", \"26\", \"27\", \"28\", \"29\", \"30\"], \"mode\": \"lines\", \"name\": \"precision_score_macro_max\", \"stepped\": true, \"type\": \"scatter\", \"data\": [0.9359086134453782, 0.9359086134453782, 0.9359086134453782, 0.9359086134453782, 0.9359086134453782, 0.9359086134453782, 0.9359086134453782, 0.9359086134453782, 0.9359086134453782, 0.9359086134453782, 0.9359086134453782, 0.9359086134453782, 0.9359086134453782, 0.9359086134453782, 0.9359086134453782, 0.9382492997198879, 0.9382492997198879, 0.9382492997198879, 0.9382492997198879, 0.9382492997198879, 0.9382492997198879, 0.9382492997198879, 0.9382492997198879, 0.9382492997198879, 0.9382492997198879, 0.9382492997198879, 0.9382492997198879, 0.9382492997198879, 0.9382492997198879, 0.9556349206349207, 0.9556349206349207]}], \"precision_score_weighted\": [{\"categories\": [\"0\", \"1\", \"2\", \"3\", \"4\", \"5\", \"6\", \"7\", \"8\", \"9\", \"10\", \"11\", \"12\", \"13\", \"14\", \"15\", \"16\", \"17\", \"18\", \"19\", \"20\", \"21\", \"22\", \"23\", \"24\", \"25\", \"26\", \"27\", \"28\", \"29\", \"30\"], \"mode\": \"markers\", \"name\": \"precision_score_weighted\", \"stepped\": false, \"type\": \"scatter\", \"data\": [0.9449186845790948, 0.9182469439530196, 0.834119489063568, 0.8889656530859378, 0.847998974151064, 0.8453783096802896, 0.8491389411027569, 0.8652172872842581, 0.8502439800481596, 0.9374934425524595, 0.9086286948990121, 0.8434420842315579, 0.8431058404699332, 0.8648836293520178, 0.917768594279817, 0.9499273920094353, 0.7821221914435211, 0.8335285081874926, 0.8993012095188953, 0.9022149522089539, 0.8653261880663197, 0.8922664336867123, 0.9148927842668166, 0.8546893134340177, 0.8837733781311569, 0.952125104427736, 0.8718084782389409, 0.889303234411787, 0.8879761645088656, 0.9593235693400167, 0.9310763428178289]}, {\"categories\": [\"0\", \"1\", \"2\", \"3\", \"4\", \"5\", \"6\", \"7\", \"8\", \"9\", \"10\", \"11\", \"12\", \"13\", \"14\", \"15\", \"16\", \"17\", \"18\", \"19\", \"20\", \"21\", \"22\", \"23\", \"24\", \"25\", \"26\", \"27\", \"28\", \"29\", \"30\"], \"mode\": \"lines\", \"name\": \"precision_score_weighted_max\", \"stepped\": true, \"type\": \"scatter\", \"data\": [0.9449186845790948, 0.9449186845790948, 0.9449186845790948, 0.9449186845790948, 0.9449186845790948, 0.9449186845790948, 0.9449186845790948, 0.9449186845790948, 0.9449186845790948, 0.9449186845790948, 0.9449186845790948, 0.9449186845790948, 0.9449186845790948, 0.9449186845790948, 0.9449186845790948, 0.9499273920094353, 0.9499273920094353, 0.9499273920094353, 0.9499273920094353, 0.9499273920094353, 0.9499273920094353, 0.9499273920094353, 0.9499273920094353, 0.9499273920094353, 0.9499273920094353, 0.952125104427736, 0.952125104427736, 0.952125104427736, 0.952125104427736, 0.9593235693400167, 0.9593235693400167]}], \"f1_score_weighted\": [{\"categories\": [\"0\", \"1\", \"2\", \"3\", \"4\", \"5\", \"6\", \"7\", \"8\", \"9\", \"10\", \"11\", \"12\", \"13\", \"14\", \"15\", \"16\", \"17\", \"18\", \"19\", \"20\", \"21\", \"22\", \"23\", \"24\", \"25\", \"26\", \"27\", \"28\", \"29\", \"30\"], \"mode\": \"markers\", \"name\": \"f1_score_weighted\", \"stepped\": false, \"type\": \"scatter\", \"data\": [0.9353560142179221, 0.898386766427938, 0.7987830284456419, 0.8771848670562991, 0.8224057448147738, 0.8370671589117796, 0.8189224567248761, 0.8358610758817677, 0.8229841800679756, 0.9312768716851991, 0.8967710726615504, 0.8016994775658569, 0.8351136261565705, 0.8396953034971281, 0.9092151094270408, 0.941987160987161, 0.7749824766551374, 0.825761622906095, 0.8735628238447823, 0.8814104061048764, 0.8479158167853911, 0.874887084698481, 0.8936738632719065, 0.8399969631200218, 0.8688578266002575, 0.932774910162712, 0.8570799082827631, 0.8828404211165276, 0.8661472257975513, 0.95307183326056, 0.9186165986188609]}, {\"categories\": [\"0\", \"1\", \"2\", \"3\", \"4\", \"5\", \"6\", \"7\", \"8\", \"9\", \"10\", \"11\", \"12\", \"13\", \"14\", \"15\", \"16\", \"17\", \"18\", \"19\", \"20\", \"21\", \"22\", \"23\", \"24\", \"25\", \"26\", \"27\", \"28\", \"29\", \"30\"], \"mode\": \"lines\", \"name\": \"f1_score_weighted_max\", \"stepped\": true, \"type\": \"scatter\", \"data\": [0.9353560142179221, 0.9353560142179221, 0.9353560142179221, 0.9353560142179221, 0.9353560142179221, 0.9353560142179221, 0.9353560142179221, 0.9353560142179221, 0.9353560142179221, 0.9353560142179221, 0.9353560142179221, 0.9353560142179221, 0.9353560142179221, 0.9353560142179221, 0.9353560142179221, 0.941987160987161, 0.941987160987161, 0.941987160987161, 0.941987160987161, 0.941987160987161, 0.941987160987161, 0.941987160987161, 0.941987160987161, 0.941987160987161, 0.941987160987161, 0.941987160987161, 0.941987160987161, 0.941987160987161, 0.941987160987161, 0.95307183326056, 0.95307183326056]}], \"AUC_micro\": [{\"categories\": [\"0\", \"1\", \"2\", \"3\", \"4\", \"5\", \"6\", \"7\", \"8\", \"9\", \"10\", \"11\", \"12\", \"13\", \"14\", \"15\", \"16\", \"17\", \"18\", \"19\", \"20\", \"21\", \"22\", \"23\", \"24\", \"25\", \"26\", \"27\", \"28\", \"29\", \"30\"], \"mode\": \"markers\", \"name\": \"AUC_micro\", \"stepped\": false, \"type\": \"scatter\", \"data\": [0.9796495844875345, 0.9721495844875345, 0.9020775623268698, 0.9452929362880887, 0.9355768698060942, 0.9321101108033242, 0.9060775623268699, 0.9280761772853185, 0.9339148199445984, 0.9756696675900278, 0.9533462603878116, 0.8743483379501387, 0.9240768698060939, 0.9470152354570637, 0.9776696675900277, 0.9855747922437674, 0.8778427977839334, 0.9242998614958449, 0.9450221606648199, 0.9578054016620499, 0.9258199445983379, 0.9386031855955679, 0.9608324099722992, 0.9355692520775623, 0.9511433518005539, 0.9660211218836565, 0.9392922437673128, 0.9519813019390581, 0.9500152354570636, 0.9846828254847646, 0.9845477839335179]}, {\"categories\": [\"0\", \"1\", \"2\", \"3\", \"4\", \"5\", \"6\", \"7\", \"8\", \"9\", \"10\", \"11\", \"12\", \"13\", \"14\", \"15\", \"16\", \"17\", \"18\", \"19\", \"20\", \"21\", \"22\", \"23\", \"24\", \"25\", \"26\", \"27\", \"28\", \"29\", \"30\"], \"mode\": \"lines\", \"name\": \"AUC_micro_max\", \"stepped\": true, \"type\": \"scatter\", \"data\": [0.9796495844875345, 0.9796495844875345, 0.9796495844875345, 0.9796495844875345, 0.9796495844875345, 0.9796495844875345, 0.9796495844875345, 0.9796495844875345, 0.9796495844875345, 0.9796495844875345, 0.9796495844875345, 0.9796495844875345, 0.9796495844875345, 0.9796495844875345, 0.9796495844875345, 0.9855747922437674, 0.9855747922437674, 0.9855747922437674, 0.9855747922437674, 0.9855747922437674, 0.9855747922437674, 0.9855747922437674, 0.9855747922437674, 0.9855747922437674, 0.9855747922437674, 0.9855747922437674, 0.9855747922437674, 0.9855747922437674, 0.9855747922437674, 0.9855747922437674, 0.9855747922437674]}], \"balanced_accuracy\": [{\"categories\": [\"0\", \"1\", \"2\", \"3\", \"4\", \"5\", \"6\", \"7\", \"8\", \"9\", \"10\", \"11\", \"12\", \"13\", \"14\", \"15\", \"16\", \"17\", \"18\", \"19\", \"20\", \"21\", \"22\", \"23\", \"24\", \"25\", \"26\", \"27\", \"28\", \"29\", \"30\"], \"mode\": \"markers\", \"name\": \"balanced_accuracy\", \"stepped\": false, \"type\": \"scatter\", \"data\": [0.8920290616246499, 0.8282492997198879, 0.7807545518207283, 0.7832738095238094, 0.7349457282913164, 0.7386362044817927, 0.7965038515406162, 0.7095833333333332, 0.7388795518207282, 0.8915826330532213, 0.8340826330532213, 0.7974264705882353, 0.7575647759103641, 0.7283088235294117, 0.8727731092436976, 0.9134873949579833, 0.6390476190476191, 0.7371533613445378, 0.7843207282913165, 0.8061957282913165, 0.7875052521008403, 0.8138497899159663, 0.8303326330532214, 0.7316421568627451, 0.8042559523809525, 0.9529814425770308, 0.7487499999999999, 0.8161309523809525, 0.7996428571428571, 0.9301540616246499, 0.8768207282913163]}, {\"categories\": [\"0\", \"1\", \"2\", \"3\", \"4\", \"5\", \"6\", \"7\", \"8\", \"9\", \"10\", \"11\", \"12\", \"13\", \"14\", \"15\", \"16\", \"17\", \"18\", \"19\", \"20\", \"21\", \"22\", \"23\", \"24\", \"25\", \"26\", \"27\", \"28\", \"29\", \"30\"], \"mode\": \"lines\", \"name\": \"balanced_accuracy_max\", \"stepped\": true, \"type\": \"scatter\", \"data\": [0.8920290616246499, 0.8920290616246499, 0.8920290616246499, 0.8920290616246499, 0.8920290616246499, 0.8920290616246499, 0.8920290616246499, 0.8920290616246499, 0.8920290616246499, 0.8920290616246499, 0.8920290616246499, 0.8920290616246499, 0.8920290616246499, 0.8920290616246499, 0.8920290616246499, 0.9134873949579833, 0.9134873949579833, 0.9134873949579833, 0.9134873949579833, 0.9134873949579833, 0.9134873949579833, 0.9134873949579833, 0.9134873949579833, 0.9134873949579833, 0.9134873949579833, 0.9529814425770308, 0.9529814425770308, 0.9529814425770308, 0.9529814425770308, 0.9529814425770308, 0.9529814425770308]}]}, \"metricName\": null, \"primaryMetricName\": \"accuracy\", \"showLegend\": false}, \"run_metrics\": [{\"name\": \"precision_score_macro\", \"run_id\": \"AutoML_5d84289e-7b7a-401f-ad36-71dcf37002e0\", \"categories\": [0], \"series\": [{\"data\": [0.9556349206349207]}]}, {\"name\": \"f1_score_macro\", \"run_id\": \"AutoML_5d84289e-7b7a-401f-ad36-71dcf37002e0\", \"categories\": [0], \"series\": [{\"data\": [0.9367119566733801]}]}, {\"name\": \"weighted_accuracy\", \"run_id\": \"AutoML_5d84289e-7b7a-401f-ad36-71dcf37002e0\", \"categories\": [0], \"series\": [{\"data\": [0.9691345367772953]}]}, {\"name\": \"f1_score_micro\", \"run_id\": \"AutoML_5d84289e-7b7a-401f-ad36-71dcf37002e0\", \"categories\": [0], \"series\": [{\"data\": [0.9542105263157895]}]}, {\"name\": \"log_loss\", \"run_id\": \"AutoML_5d84289e-7b7a-401f-ad36-71dcf37002e0\", \"categories\": [0], \"series\": [{\"data\": [0.20839125604079003]}]}, {\"name\": \"AUC_macro\", \"run_id\": \"AutoML_5d84289e-7b7a-401f-ad36-71dcf37002e0\", \"categories\": [0], \"series\": [{\"data\": [0.9774201680672269]}]}, {\"name\": \"precision_score_micro\", \"run_id\": \"AutoML_5d84289e-7b7a-401f-ad36-71dcf37002e0\", \"categories\": [0], \"series\": [{\"data\": [0.9542105263157895]}]}, {\"name\": \"AUC_weighted\", \"run_id\": \"AutoML_5d84289e-7b7a-401f-ad36-71dcf37002e0\", \"categories\": [0], \"series\": [{\"data\": [0.9774201680672269]}]}, {\"name\": \"recall_score_micro\", \"run_id\": \"AutoML_5d84289e-7b7a-401f-ad36-71dcf37002e0\", \"categories\": [0], \"series\": [{\"data\": [0.9542105263157895]}]}, {\"name\": \"precision_score_weighted\", \"run_id\": \"AutoML_5d84289e-7b7a-401f-ad36-71dcf37002e0\", \"categories\": [0], \"series\": [{\"data\": [0.9593235693400167]}]}, {\"name\": \"balanced_accuracy\", \"run_id\": \"AutoML_5d84289e-7b7a-401f-ad36-71dcf37002e0\", \"categories\": [0], \"series\": [{\"data\": [0.9301540616246499]}]}, {\"name\": \"f1_score_weighted\", \"run_id\": \"AutoML_5d84289e-7b7a-401f-ad36-71dcf37002e0\", \"categories\": [0], \"series\": [{\"data\": [0.95307183326056]}]}, {\"name\": \"recall_score_macro\", \"run_id\": \"AutoML_5d84289e-7b7a-401f-ad36-71dcf37002e0\", \"categories\": [0], \"series\": [{\"data\": [0.9301540616246499]}]}, {\"name\": \"accuracy\", \"run_id\": \"AutoML_5d84289e-7b7a-401f-ad36-71dcf37002e0\", \"categories\": [0], \"series\": [{\"data\": [0.9542105263157895]}]}, {\"name\": \"average_precision_score_micro\", \"run_id\": \"AutoML_5d84289e-7b7a-401f-ad36-71dcf37002e0\", \"categories\": [0], \"series\": [{\"data\": [0.98582416382135]}]}, {\"name\": \"average_precision_score_macro\", \"run_id\": \"AutoML_5d84289e-7b7a-401f-ad36-71dcf37002e0\", \"categories\": [0], \"series\": [{\"data\": [0.9726701269085722]}]}, {\"name\": \"AUC_micro\", \"run_id\": \"AutoML_5d84289e-7b7a-401f-ad36-71dcf37002e0\", \"categories\": [0], \"series\": [{\"data\": [0.9846828254847646]}]}, {\"name\": \"recall_score_weighted\", \"run_id\": \"AutoML_5d84289e-7b7a-401f-ad36-71dcf37002e0\", \"categories\": [0], \"series\": [{\"data\": [0.9542105263157895]}]}, {\"name\": \"average_precision_score_weighted\", \"run_id\": \"AutoML_5d84289e-7b7a-401f-ad36-71dcf37002e0\", \"categories\": [0], \"series\": [{\"data\": [0.9824138693908431]}]}, {\"name\": \"norm_macro_recall\", \"run_id\": \"AutoML_5d84289e-7b7a-401f-ad36-71dcf37002e0\", \"categories\": [0], \"series\": [{\"data\": [0.8603081232492997]}]}, {\"name\": \"matthews_correlation\", \"run_id\": \"AutoML_5d84289e-7b7a-401f-ad36-71dcf37002e0\", \"categories\": [0], \"series\": [{\"data\": [0.883149258621328]}]}], \"run_logs\": \"\\nRun is completed.\", \"graph\": {}, \"widget_settings\": {\"childWidgetDisplay\": \"popup\", \"send_telemetry\": false, \"log_level\": \"INFO\", \"sdk_version\": \"1.39.0\"}, \"loading\": false}"
     },
     "metadata": {},
     "output_type": "display_data"
    },
    {
     "data": {
      "text/html": [
       "<table style=\"width:100%\"><tr><th>Experiment</th><th>Id</th><th>Type</th><th>Status</th><th>Details Page</th><th>Docs Page</th></tr><tr><td>automl-capstone</td><td>AutoML_5d84289e-7b7a-401f-ad36-71dcf37002e0</td><td>automl</td><td>Completed</td><td><a href=\"https://ml.azure.com/runs/AutoML_5d84289e-7b7a-401f-ad36-71dcf37002e0?wsid=/subscriptions/d6ebc258-732e-4a76-8d46-be5af7f5737d/resourcegroups/tsar/workspaces/endofproj&amp;tid=52299ebb-8afb-45a8-8e21-7df88891d90a\" target=\"_blank\" rel=\"noopener\">Link to Azure Machine Learning studio</a></td><td><a href=\"https://docs.microsoft.com/en-us/python/api/overview/azure/ml/intro?view=azure-ml-py\" target=\"_blank\" rel=\"noopener\">Link to Documentation</a></td></tr></table>"
      ],
      "text/plain": [
       "<IPython.core.display.HTML object>"
      ]
     },
     "metadata": {},
     "output_type": "display_data"
    },
    {
     "name": "stdout",
     "output_type": "stream",
     "text": [
      "\n",
      "\n",
      "********************************************************************************************\n",
      "DATA GUARDRAILS: \n",
      "\n",
      "TYPE:         Cross validation\n",
      "STATUS:       DONE\n",
      "DESCRIPTION:  Each iteration of the trained model was validated through cross-validation.\n",
      "              \n",
      "DETAILS:      \n",
      "+------------------------------+\n",
      "|Number of folds               |\n",
      "+==============================+\n",
      "|10                            |\n",
      "+------------------------------+\n",
      "\n",
      "********************************************************************************************\n",
      "\n",
      "TYPE:         Class balancing detection\n",
      "STATUS:       PASSED\n",
      "DESCRIPTION:  Your inputs were analyzed, and all classes are balanced in your training data.\n",
      "              Learn more about imbalanced data: https://aka.ms/AutomatedMLImbalancedData\n",
      "\n",
      "********************************************************************************************\n",
      "\n",
      "TYPE:         Missing feature values imputation\n",
      "STATUS:       PASSED\n",
      "DESCRIPTION:  No feature missing values were detected in the training data.\n",
      "              Learn more about missing value imputation: https://aka.ms/AutomatedMLFeaturization\n",
      "\n",
      "********************************************************************************************\n",
      "\n",
      "TYPE:         High cardinality feature detection\n",
      "STATUS:       DONE\n",
      "DESCRIPTION:  The training data had the following high cardinality features which were excluded for training. Please review your data source and possibly filter out these columns. If you want to include these features for training, you can override column purpose with appropriate column type.\n",
      "              Learn more about high cardinality feature handling: https://aka.ms/AutomatedMLFeaturization\n",
      "DETAILS:      High cardinality features refer to columns that contain a large percentage of unique values.\n",
      "+------------------------------+------------------------------+\n",
      "|Column name                   |Column Content Type           |\n",
      "+==============================+==============================+\n",
      "|name                          |hashes                        |\n",
      "+------------------------------+------------------------------+\n",
      "\n",
      "********************************************************************************************\n",
      "\n",
      "********************************************************************************************\n",
      "ITER: The iteration being evaluated.\n",
      "PIPELINE: A summary description of the pipeline being evaluated.\n",
      "DURATION: Time taken for the current iteration.\n",
      "METRIC: The result of computing score on the fitted pipeline.\n",
      "BEST: The best observed score thus far.\n",
      "********************************************************************************************\n",
      "\n",
      " ITER   PIPELINE                                       DURATION            METRIC      BEST\n",
      "    0   MaxAbsScaler LightGBM                          0:00:31             0.9384    0.9384\n",
      "    1   MaxAbsScaler XGBoostClassifier                 0:00:33             0.9074    0.9384\n",
      "    2   MaxAbsScaler ExtremeRandomTrees                0:00:31             0.7895    0.9384\n",
      "    3   SparseNormalizer XGBoostClassifier             0:00:30             0.8968    0.9384\n",
      "    4   StandardScalerWrapper KNN                      0:00:31             0.8400    0.9384\n",
      "    5   MaxAbsScaler LightGBM                          0:00:29             0.8561    0.9384\n",
      "    6   RobustScaler LogisticRegression                0:00:28             0.8100    0.9384\n",
      "    7   MaxAbsScaler LightGBM                          0:00:28             0.8616    0.9384\n",
      "    8   StandardScalerWrapper KNN                      0:00:29             0.8403    0.9384\n",
      "    9   StandardScalerWrapper SVM                      0:00:30             0.9334    0.9384\n",
      "   10   StandardScalerWrapper XGBoostClassifier        0:00:29             0.9026    0.9384\n",
      "   11   MinMaxScaler RandomForest                      0:00:33             0.7897    0.9384\n",
      "   12   StandardScalerWrapper LogisticRegression       0:00:28             0.8508    0.9384\n",
      "   13   StandardScalerWrapper KNN                      0:00:28             0.8663    0.9384\n",
      "   14   RobustScaler KNN                               0:00:29             0.9129    0.9384\n",
      "   15   MinMaxScaler KNN                               0:00:28             0.9437    0.9437\n",
      "   16   SparseNormalizer KNN                           0:00:31             0.7995    0.9437\n",
      "   17   MaxAbsScaler LogisticRegression                0:00:28             0.8455    0.9437\n",
      "   18   StandardScalerWrapper XGBoostClassifier        0:00:28             0.8868    0.9437\n",
      "   19   StandardScalerWrapper XGBoostClassifier        0:00:29             0.8918    0.9437\n",
      "   20   MaxAbsScaler LogisticRegression                0:00:29             0.8505    0.9437\n",
      "   21   StandardScalerWrapper XGBoostClassifier        0:00:31             0.8818    0.9437\n",
      "   22   MinMaxScaler RandomForest                      0:00:31             0.9026    0.9437\n",
      "   23   StandardScalerWrapper LightGBM                 0:00:28             0.8618    0.9437\n",
      "   24   MaxAbsScaler LightGBM                          0:00:29             0.8768    0.9437\n",
      "   25   MinMaxScaler KNN                               0:00:29             0.9282    0.9437\n",
      "   26   StandardScalerWrapper LightGBM                 0:00:29             0.8771    0.9437\n",
      "   27   StandardScalerWrapper XGBoostClassifier        0:00:29             0.8918    0.9437\n",
      "   28   MaxAbsScaler LightGBM                          0:00:28             0.8768    0.9437\n",
      "   29    VotingEnsemble                                0:00:39             0.9542    0.9542\n",
      "   30    StackEnsemble                                 0:00:40             0.9229    0.9542\n"
     ]
    },
    {
     "data": {
      "text/plain": [
       "{'runId': 'AutoML_5d84289e-7b7a-401f-ad36-71dcf37002e0',\n",
       " 'target': 'local',\n",
       " 'status': 'Completed',\n",
       " 'startTimeUtc': '2022-04-11T14:46:27.120393Z',\n",
       " 'endTimeUtc': '2022-04-11T15:03:03.013975Z',\n",
       " 'services': {},\n",
       " 'warnings': [{'source': 'JasmineService',\n",
       "   'message': 'Experiment timeout reached, hence experiment stopped. Current experiment timeout: 0 hour(s) 15 minute(s)'}],\n",
       " 'properties': {'num_iterations': '1000',\n",
       "  'training_type': 'TrainFull',\n",
       "  'acquisition_function': 'EI',\n",
       "  'primary_metric': 'accuracy',\n",
       "  'train_split': '0',\n",
       "  'acquisition_parameter': '0',\n",
       "  'num_cross_validation': None,\n",
       "  'target': 'local',\n",
       "  'AMLSettingsJsonString': '{\"path\":null,\"name\":\"automl-capstone\",\"subscription_id\":\"d6ebc258-732e-4a76-8d46-be5af7f5737d\",\"resource_group\":\"tsar\",\"workspace_name\":\"endofproj\",\"region\":\"eastus2\",\"compute_target\":\"local\",\"spark_service\":null,\"azure_service\":\"Microsoft.AzureNotebookVM\",\"many_models\":false,\"pipeline_fetch_max_batch_size\":1,\"enable_batch_run\":false,\"enable_run_restructure\":false,\"start_auxiliary_runs_before_parent_complete\":false,\"enable_code_generation\":false,\"iterations\":1000,\"primary_metric\":\"accuracy\",\"task_type\":\"classification\",\"positive_label\":null,\"data_script\":null,\"test_size\":0.0,\"test_include_predictions_only\":false,\"validation_size\":0.0,\"n_cross_validations\":null,\"y_min\":null,\"y_max\":null,\"num_classes\":null,\"featurization\":\"auto\",\"_ignore_package_version_incompatibilities\":false,\"is_timeseries\":false,\"max_cores_per_iteration\":1,\"max_concurrent_iterations\":5,\"iteration_timeout_minutes\":2,\"mem_in_mb\":null,\"enforce_time_on_windows\":false,\"experiment_timeout_minutes\":15,\"experiment_exit_score\":null,\"partition_column_names\":null,\"whitelist_models\":null,\"blacklist_algos\":[\"TensorFlowLinearClassifier\",\"TensorFlowDNN\"],\"supported_models\":[\"BernoulliNaiveBayes\",\"XGBoostClassifier\",\"MultinomialNaiveBayes\",\"GradientBoosting\",\"TensorFlowLinearClassifier\",\"KNN\",\"LightGBM\",\"ExtremeRandomTrees\",\"LogisticRegression\",\"AveragedPerceptronClassifier\",\"SGD\",\"DecisionTree\",\"SVM\",\"RandomForest\",\"LinearSVM\",\"TensorFlowDNN\",\"TabnetClassifier\"],\"private_models\":[],\"auto_blacklist\":true,\"blacklist_samples_reached\":false,\"exclude_nan_labels\":true,\"verbosity\":20,\"_debug_log\":\"automl_errors.log\",\"show_warnings\":false,\"model_explainability\":true,\"service_url\":null,\"sdk_url\":null,\"sdk_packages\":null,\"enable_onnx_compatible_models\":false,\"enable_split_onnx_featurizer_estimator_models\":false,\"vm_type\":null,\"telemetry_verbosity\":20,\"send_telemetry\":true,\"enable_dnn\":false,\"scenario\":\"SDK-1.13.0\",\"environment_label\":null,\"save_mlflow\":false,\"enable_categorical_indicators\":false,\"force_text_dnn\":false,\"enable_feature_sweeping\":true,\"enable_early_stopping\":true,\"early_stopping_n_iters\":10,\"arguments\":null,\"dataset_id\":null,\"hyperdrive_config\":null,\"validation_dataset_id\":null,\"run_source\":null,\"metrics\":null,\"enable_metric_confidence\":false,\"enable_ensembling\":true,\"enable_stack_ensembling\":true,\"ensemble_iterations\":15,\"enable_tf\":false,\"enable_subsampling\":null,\"subsample_seed\":null,\"enable_nimbusml\":false,\"enable_streaming\":false,\"force_streaming\":false,\"track_child_runs\":true,\"allowed_private_models\":[],\"label_column_name\":\"status\",\"weight_column_name\":null,\"cv_split_column_names\":null,\"enable_local_managed\":false,\"_local_managed_run_id\":null,\"cost_mode\":1,\"lag_length\":0,\"metric_operation\":\"maximize\",\"preprocess\":true}',\n",
       "  'DataPrepJsonString': None,\n",
       "  'EnableSubsampling': None,\n",
       "  'runTemplate': 'AutoML',\n",
       "  'azureml.runsource': 'automl',\n",
       "  'display_task_type': 'classification',\n",
       "  'dependencies_versions': '{\"azureml-widgets\": \"1.39.0\", \"azureml-training-tabular\": \"1.39.0\", \"azureml-train\": \"1.39.0\", \"azureml-train-restclients-hyperdrive\": \"1.39.0\", \"azureml-train-core\": \"1.39.0\", \"azureml-train-automl\": \"1.39.0\", \"azureml-train-automl-runtime\": \"1.39.0\", \"azureml-train-automl-client\": \"1.39.0\", \"azureml-tensorboard\": \"1.39.0\", \"azureml-telemetry\": \"1.39.0\", \"azureml-sdk\": \"1.39.0\", \"azureml-samples\": \"0+unknown\", \"azureml-responsibleai\": \"1.39.0\", \"azureml-pipeline\": \"1.39.0\", \"azureml-pipeline-steps\": \"1.39.0\", \"azureml-pipeline-core\": \"1.39.0\", \"azureml-opendatasets\": \"1.39.0\", \"azureml-mlflow\": \"1.39.0\", \"azureml-interpret\": \"1.39.0\", \"azureml-inference-server-http\": \"0.4.10\", \"azureml-explain-model\": \"1.39.0\", \"azureml-defaults\": \"1.39.0\", \"azureml-dataset-runtime\": \"1.39.0\", \"azureml-dataprep\": \"2.27.1\", \"azureml-dataprep-rslex\": \"2.3.1\", \"azureml-dataprep-native\": \"38.0.0\", \"azureml-datadrift\": \"1.39.0\", \"azureml-core\": \"1.39.0\", \"azureml-contrib-services\": \"1.39.0\", \"azureml-contrib-server\": \"1.39.0\", \"azureml-contrib-reinforcementlearning\": \"1.39.0\", \"azureml-contrib-pipeline-steps\": \"1.39.0\", \"azureml-contrib-notebook\": \"1.39.0\", \"azureml-contrib-fairness\": \"1.39.0\", \"azureml-contrib-dataset\": \"1.39.0\", \"azureml-contrib-automl-pipeline-steps\": \"1.39.0\", \"azureml-cli-common\": \"1.39.0\", \"azureml-automl-runtime\": \"1.39.0\", \"azureml-automl-dnn-nlp\": \"1.39.0\", \"azureml-automl-core\": \"1.39.0\", \"azureml-accel-models\": \"1.39.0\"}',\n",
       "  '_aml_system_scenario_identification': 'Local.Parent',\n",
       "  'ClientSdkVersion': '1.39.0',\n",
       "  'ClientType': 'SDK',\n",
       "  'environment_cpu_name': 'AzureML-AutoML',\n",
       "  'environment_cpu_label': 'prod',\n",
       "  'environment_gpu_name': 'AzureML-AutoML-GPU',\n",
       "  'environment_gpu_label': 'prod',\n",
       "  'root_attribution': 'automl',\n",
       "  'attribution': 'AutoML',\n",
       "  'Orchestrator': 'AutoML',\n",
       "  '_azureml.ComputeTargetType': 'local',\n",
       "  'ProblemInfoJsonString': '{\"dataset_num_categorical\": 0, \"is_sparse\": false, \"subsampling\": false, \"has_extra_col\": true, \"dataset_classes\": 2, \"dataset_features\": 22, \"dataset_samples\": 195, \"single_frequency_class_detected\": false}'},\n",
       " 'inputDatasets': [],\n",
       " 'outputDatasets': [],\n",
       " 'logFiles': {},\n",
       " 'submittedBy': 'Kwabena Nyinaku'}"
      ]
     },
     "execution_count": 20,
     "metadata": {},
     "output_type": "execute_result"
    }
   ],
   "source": [
    "from azureml.widgets import RunDetails\n",
    "RunDetails(run).show()\n",
    "run.wait_for_completion(show_output=True)"
   ]
  },
  {
   "cell_type": "code",
   "execution_count": 23,
   "id": "45357d34-344d-416f-9ee4-b0291c66ae6e",
   "metadata": {},
   "outputs": [
    {
     "name": "stdout",
     "output_type": "stream",
     "text": [
      "Run(Experiment: automl-capstone,\n",
      "Id: AutoML_5d84289e-7b7a-401f-ad36-71dcf37002e0_29,\n",
      "Type: None,\n",
      "Status: Completed)\n"
     ]
    }
   ],
   "source": [
    "best_run, fitted_model = run.get_output()\n",
    "print(best_model)"
   ]
  },
  {
   "cell_type": "code",
   "execution_count": null,
   "id": "19fe8f83",
   "metadata": {},
   "outputs": [],
   "source": [
    "print(fitted_model)\n",
    "#code line above and below displays parameters of the AutoML model, choose any** \n",
    "#fitted_model.steps[1][1].estimators"
   ]
  },
  {
   "cell_type": "code",
   "execution_count": 24,
   "id": "bd934136-0c1b-487f-995d-05bacb0a9548",
   "metadata": {},
   "outputs": [
    {
     "name": "stderr",
     "output_type": "stream",
     "text": [
      "2022-04-11:15:18:08,157 INFO     [explanation_client.py:334] Using default datastore for uploads\n",
      "2022-04-11:15:18:15,620 INFO     [explanation_client.py:334] Using default datastore for uploads\n",
      "2022-04-11:15:18:23,112 INFO     [explanation_client.py:334] Using default datastore for uploads\n",
      "2022-04-11:15:18:30,751 INFO     [explanation_client.py:334] Using default datastore for uploads\n",
      "2022-04-11:15:18:38,617 INFO     [explanation_client.py:334] Using default datastore for uploads\n"
     ]
    }
   ],
   "source": [
    "model_name = best_run.properties['model_name']\n",
    "\n",
    "script_file_name = 'inference/score.py'\n",
    "\n",
    "best_run.download_file('outputs/scoring_file_v_1_0_0.py', 'inference/score.py')"
   ]
  },
  {
   "cell_type": "code",
   "execution_count": 25,
   "id": "f805b692-30c6-454c-9afe-85179f2eff72",
   "metadata": {},
   "outputs": [
    {
     "name": "stdout",
     "output_type": "stream",
     "text": [
      "Model ID AutoML5d84289e729\n"
     ]
    },
    {
     "name": "stderr",
     "output_type": "stream",
     "text": [
      "2022-04-11:15:19:27,862 INFO     [explanation_client.py:334] Using default datastore for uploads\n",
      "2022-04-11:15:19:36,423 INFO     [explanation_client.py:334] Using default datastore for uploads\n"
     ]
    }
   ],
   "source": [
    "\n",
    "model = run.register_model(model_name = model_name, description = 'AutoML Parkisons model', tags = None)\n",
    "\n",
    "print(\"Model ID\", run.model_id)"
   ]
  },
  {
   "cell_type": "code",
   "execution_count": 27,
   "id": "e963bbb8-7918-4112-8895-74b74c09b428",
   "metadata": {},
   "outputs": [
    {
     "name": "stderr",
     "output_type": "stream",
     "text": [
      "2022-04-11:15:20:31,166 INFO     [explanation_client.py:334] Using default datastore for uploads\n"
     ]
    }
   ],
   "source": [
    "\n",
    "from azureml.core.environment import Environment\n",
    "from azureml.automl.core.shared import constants\n",
    "best_run.download_file(constants.CONDA_ENV_FILE_PATH, 'myenv.yml')\n",
    "myenv = Environment.from_conda_specification(name=\"myenv\", file_path=\"myenv.yml\")"
   ]
  },
  {
   "cell_type": "code",
   "execution_count": 39,
   "id": "775a3363-8f07-43e1-88c5-10ca55dac03b",
   "metadata": {},
   "outputs": [
    {
     "name": "stdout",
     "output_type": "stream",
     "text": [
      "parkinsons-service\n",
      "Tips: You can try get_logs(): https://aka.ms/debugimage#dockerlog or local deployment: https://aka.ms/debugimage#debug-locally to debug if deployment takes longer than 10 minutes.\n",
      "Running\n",
      "2022-04-11 16:40:37+00:00 Creating Container Registry if not exists.\n",
      "2022-04-11 16:40:37+00:00 Registering the environment.\n",
      "2022-04-11 16:40:37+00:00 Use the existing image.\n",
      "2022-04-11 16:40:38+00:00 Generating deployment configuration.\n",
      "2022-04-11 16:40:39+00:00 Submitting deployment to compute.\n",
      "2022-04-11 16:40:42+00:00 Checking the status of deployment parkinsons-service."
     ]
    },
    {
     "name": "stderr",
     "output_type": "stream",
     "text": [
      "2022-04-11:16:41:08,455 INFO     [explanation_client.py:334] Using default datastore for uploads\n",
      "2022-04-11:16:42:09,215 INFO     [explanation_client.py:334] Using default datastore for uploads\n",
      "2022-04-11:16:43:09,936 INFO     [explanation_client.py:334] Using default datastore for uploads\n"
     ]
    },
    {
     "name": "stdout",
     "output_type": "stream",
     "text": [
      ".\n",
      "2022-04-11 16:43:43+00:00 Checking the status of inference endpoint parkinsons-service.\n",
      "Succeeded\n",
      "ACI service creation operation finished, operation \"Succeeded\"\n",
      "Healthy\n"
     ]
    }
   ],
   "source": [
    "from azureml.core.model import InferenceConfig\n",
    "from azureml.core.webservice import AciWebservice\n",
    "from azureml.core.webservice import Webservice\n",
    "from azureml.core.model import Model\n",
    "from azureml.core.environment import Environment\n",
    "\n",
    "inference_config = InferenceConfig(entry_script=script_file_name, environment=myenv)\n",
    "aciconfig = AciWebservice.deploy_configuration(cpu_cores = 1, \n",
    "                                               memory_gb = 1, \n",
    "                                               description = 'Parkinsons Disease Classification Service')\n",
    "\n",
    "aci_service_name = 'parkinsons-service'\n",
    "print(aci_service_name)\n",
    "aci_service = Model.deploy(ws, aci_service_name, [model], inference_config, aciconfig)\n",
    "aci_service.wait_for_deployment(True)\n",
    "print(aci_service.state)"
   ]
  },
  {
   "cell_type": "code",
   "execution_count": 41,
   "id": "d6cb6eaf-b36f-4efd-9695-354ccc82ed58",
   "metadata": {},
   "outputs": [
    {
     "name": "stdout",
     "output_type": "stream",
     "text": [
      "{\"result\": [1]}\n"
     ]
    },
    {
     "name": "stderr",
     "output_type": "stream",
     "text": [
      "2022-04-11:16:49:13,310 INFO     [explanation_client.py:334] Using default datastore for uploads\n"
     ]
    }
   ],
   "source": [
    "# URL for the web service, should be similar to:\n",
    "\n",
    "scoring_uri = 'http://f15c618e-6f83-4b45-b033-a7beda3fe9c6.eastus2.azurecontainer.io/score'\n",
    "\n",
    "data = {\n",
    "  \"data\": [\n",
    "    {\n",
    "      \"D2\": 2.89,\n",
    "      \"DFA\": 0.622,\n",
    "      \"HNR\": 23.0,\n",
    "      \"Jitter:DDP\": 0.00421,\n",
    "      \"MDVP:APQ\": 0.0455,\n",
    "      \"MDVP:Fhi(Hz)\": 200.9,\n",
    "      \"MDVP:Flo(Hz)\": 93.98,\n",
    "      \"MDVP:Fo(Hz)\": 156.6,\n",
    "      \"MDVP:Jitter(%)\": 0.0089,\n",
    "      \"MDVP:Jitter(Abs)\": 0.00006,\n",
    "      \"MDVP:PPQ\": 0.00292,\n",
    "      \"MDVP:RAP\": 0.0022,\n",
    "      \"MDVP:Shimmer\": 0.03327,\n",
    "      \"MDVP:Shimmer(dB)\": 0.482,\n",
    "      \"NHR\": 0.0341,\n",
    "      \"PPE\": 0.0168,\n",
    "      \"RPDE\": 0.622,\n",
    "      \"Shimmer:APQ3\": 0.0288,\n",
    "      \"Shimmer:APQ5\": 0.0045,\n",
    "      \"Shimmer:DDA\": 0.05,\n",
    "      \"name\": \"example_value\",\n",
    "      \"spread1\": -7.082,\n",
    "      \"spread2\": 0.336\n",
    "    },\n",
    "  ],\n",
    "  \"method\": \"predict\"\n",
    "\n",
    "    }\n",
    "# Convert to JSON string\n",
    "input_data = json.dumps(data)\n",
    "with open(\"data.json\", \"w\") as _f:\n",
    "    _f.write(input_data)\n",
    "\n",
    "# Set the content type\n",
    "headers = {'Content-Type': 'application/json'}\n",
    "\n",
    "\n",
    "# Make the request and display the response\n",
    "resp = requests.post(scoring_uri, input_data, headers=headers)\n",
    "print(resp.json())"
   ]
  },
  {
   "cell_type": "code",
   "execution_count": 42,
   "id": "66f124d6-12c7-49a5-929c-157f75759c07",
   "metadata": {},
   "outputs": [
    {
     "name": "stdout",
     "output_type": "stream",
     "text": [
      "200\n",
      "0:00:00.247466\n",
      "{\"result\": [1]}\n"
     ]
    }
   ],
   "source": [
    "print(resp.status_code)\n",
    "print(resp.elapsed)\n",
    "print(resp.json())"
   ]
  },
  {
   "cell_type": "code",
   "execution_count": 45,
   "id": "39a21689-a0c5-4a71-8cba-38f40039b0e4",
   "metadata": {},
   "outputs": [],
   "source": [
    "## replace <service_name> with the name of the web service\n",
    "aci_service.update(enable_app_insights=True)"
   ]
  },
  {
   "cell_type": "code",
   "execution_count": 46,
   "id": "e3bd8a95-0be1-4f2c-8c32-4781e6a7d2eb",
   "metadata": {},
   "outputs": [
    {
     "name": "stderr",
     "output_type": "stream",
     "text": [
      "2022-04-11:17:13:26,645 INFO     [explanation_client.py:334] Using default datastore for uploads\n"
     ]
    }
   ],
   "source": [
    "aci_service.delete()"
   ]
  }
 ],
 "metadata": {
  "kernelspec": {
   "display_name": "Python 3.8 - AzureML",
   "language": "python",
   "name": "python38-azureml"
  },
  "language_info": {
   "codemirror_mode": {
    "name": "ipython",
    "version": 3
   },
   "file_extension": ".py",
   "mimetype": "text/x-python",
   "name": "python",
   "nbconvert_exporter": "python",
   "pygments_lexer": "ipython3",
   "version": "3.8.5"
  }
 },
 "nbformat": 4,
 "nbformat_minor": 5
}
